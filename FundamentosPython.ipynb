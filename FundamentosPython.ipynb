{
  "cells": [
    {
      "cell_type": "markdown",
      "metadata": {
        "id": "6XRJANX0MGOC"
      },
      "source": [
        "Apropiación\n",
        "Realice un programa que calcule el índice de cosecha de un cultivo en función de la cantidad de frutos recolectados y la cantidad de frutos producidos en total.\n",
        "Fórmula:\n",
        "\n",
        "Índice de cosecha = (cantidad de frutos recolectados / cantidad de frutos producidos) * 100%\n",
        "Solucion:"
      ]
    },
    {
      "cell_type": "code",
      "execution_count": 21,
      "metadata": {
        "colab": {
          "base_uri": "https://localhost:8080/"
        },
        "id": "ULDAm4icMMsG",
        "outputId": "5f69868a-f755-46a1-c4f4-82b0c5cc2959"
      },
      "outputs": [
        {
          "name": "stdout",
          "output_type": "stream",
          "text": [
            "ingesa la cantidad de frutos recolectados2\n",
            "ingesa la cantidad de frutos producidos4\n",
            "el índice de cosecha de un cultivo es: 50.0%\n"
          ]
        }
      ],
      "source": [
        "cantidad_de_frutos=int(input(\"ingesa la cantidad de frutos recolectados\"))\n",
        "cantidad_de_frutos_producidos=int(input(\"ingesa la cantidad de frutos producidos\"))\n",
        "indice_de_cosecha=cantidad_de_frutos/cantidad_de_frutos_producidos*100\n",
        "print(\"el índice de cosecha de un cultivo es: \"+str(indice_de_cosecha)+\"%\")\n"
      ]
    },
    {
      "cell_type": "markdown",
      "metadata": {
        "id": "_jPfUQZKRDKZ"
      },
      "source": [
        "Dibujar la P de Python que abarque 7 filas y 5 columnas. Use solo una línea de código"
      ]
    },
    {
      "cell_type": "code",
      "execution_count": 66,
      "metadata": {
        "colab": {
          "base_uri": "https://localhost:8080/"
        },
        "id": "af9qGAUiRHrm",
        "outputId": "d5efef50-d1b5-4edd-e988-607cf5281a84"
      },
      "outputs": [
        {
          "name": "stdout",
          "output_type": "stream",
          "text": [
            " ------\n",
            "|       |\n",
            "|       |\n",
            "|       |\n",
            "|       |\n",
            "|       |\n",
            " ------\n",
            "|     \n",
            "|     \n",
            "|     \n",
            "|     \n",
            "|     \n",
            "\n"
          ]
        }
      ],
      "source": [
        "print ((\" -\" + 5 * \"-\" )  )\n",
        "print ((\"|\" + \" \" * 7 + \"|\\n\") * 5, end=\"\")\n",
        "print ((\" -\" + 5 * \"-\" )  )\n",
        "print ((\"|\" + \" \" * 5 + \"\\n\")* 5)"
      ]
    },
    {
      "cell_type": "markdown",
      "metadata": {
        "id": "aNbXgmCCW_p6"
      },
      "source": [
        "Un alumno desea saber cuál será su calificación final en la materia de Matemáticas. Dicha calificación se compone de los siguientes porcentajes: 55% del promedio de sus tres calificaciones parciales (se debe leer cada calificación parcial). 30% de la calificación del examen final. 15% de la calificación de un trabajo final."
      ]
    },
    {
      "cell_type": "code",
      "execution_count": 75,
      "metadata": {
        "colab": {
          "base_uri": "https://localhost:8080/"
        },
        "id": "OD8twPRwXLH6",
        "outputId": "6e26e4a2-0b7a-4ea0-c015-4a6ea9f239d1"
      },
      "outputs": [
        {
          "name": "stdout",
          "output_type": "stream",
          "text": [
            "Ingrese el número de parciales: 2\n",
            "Ingrese la calificación del parcial 1: 90\n",
            "Ingrese la calificación del parcial 2: 60\n",
            "Ingrese la calificación del examen final: 99\n",
            "Ingrese la calificación del trabajo final: 9\n",
            "La calificación final en Matemáticas es: 72.30\n"
          ]
        }
      ],
      "source": [
        "numero_parciales = int(input(\"Ingrese el número de parciales: \"))\n",
        "promedio_parciales = sum(float(input(f\"Ingrese la calificación del parcial {i + 1}: \")) for i in range(numero_parciales)) / numero_parciales\n",
        "examen_final = float(input(\"Ingrese la calificación del examen final: \"))\n",
        "trabajo_final = float(input(\"Ingrese la calificación del trabajo final: \"))\n",
        "calificacion_final = (promedio_parciales * 0.55) + (examen_final * 0.30) + (trabajo_final * 0.15)\n",
        "print(\"La calificación final en Matemáticas es: {:.2f}\".format(calificacion_final))"
      ]
    },
    {
      "cell_type": "markdown",
      "metadata": {
        "id": "K1Wy7d2NZYxc"
      },
      "source": [
        "Recibir una frase por parte del usuario y devolver el número de palabras que se encuentran en la frase."
      ]
    },
    {
      "cell_type": "code",
      "execution_count": 77,
      "metadata": {
        "colab": {
          "base_uri": "https://localhost:8080/"
        },
        "id": "34lJD26WZZzl",
        "outputId": "afd6c81a-af15-4578-c347-73f9143b1ba5"
      },
      "outputs": [
        {
          "name": "stdout",
          "output_type": "stream",
          "text": [
            "Ingrese una frase: hola mundo\n",
            "El número de palabras en la frase es: 2\n"
          ]
        }
      ],
      "source": [
        "frace = input(\"Ingrese una frase: \")\n",
        "palabras = frace.split()\n",
        "numero_palabras = len(palabras)\n",
        "print(\"El número de palabras en la frase es:\", numero_palabras)"
      ]
    },
    {
      "cell_type": "markdown",
      "metadata": {
        "id": "WSxbuOOPbdPX"
      },
      "source": [
        "Recibir una frase y transformarla a mayúscula sostenida e invirtiendo su contenido"
      ]
    },
    {
      "cell_type": "code",
      "execution_count": 78,
      "metadata": {
        "colab": {
          "base_uri": "https://localhost:8080/"
        },
        "id": "HJ0L7gQ2cDC1",
        "outputId": "d7b152bf-4bf2-41f7-a0c7-74fd2aae7fe3"
      },
      "outputs": [
        {
          "name": "stdout",
          "output_type": "stream",
          "text": [
            "Ingrese una frase: hola mundo\n",
            "Frase en mayúscula sostenida e invertida: ODNUM ALOH\n"
          ]
        }
      ],
      "source": [
        "frace = input(\"Ingrese una frase: \")\n",
        "frace_mayuscula = frace.upper()\n",
        "frace_invertida = frace_mayuscula[::-1]\n",
        "print(\"Frase en mayúscula sostenida e invertida:\", frace_invertida)\n",
        "#"
      ]
    }
  ],
  "metadata": {
    "colab": {
      "provenance": []
    },
    "kernelspec": {
      "display_name": "Python 3",
      "name": "python3"
    },
    "language_info": {
      "name": "python"
    }
  },
  "nbformat": 4,
  "nbformat_minor": 0
}
