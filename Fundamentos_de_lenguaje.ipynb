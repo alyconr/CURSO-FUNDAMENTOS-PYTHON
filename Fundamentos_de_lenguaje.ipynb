{
  "cells": [
    {
      "cell_type": "code",
      "execution_count": null,
      "metadata": {
        "id": "7q1MQhXSiEvP"
      },
      "outputs": [],
      "source": []
    },
    {
      "cell_type": "markdown",
      "metadata": {
        "id": "7_u8d5K7mt1u"
      },
      "source": [
        "**APROPIACION**\n"
      ]
    },
    {
      "cell_type": "markdown",
      "metadata": {
        "id": "Dar_wgjCnPA9"
      },
      "source": [
        "1. Realice un programa que calcule el índice de cosecha de un cultivo en función de la cantidad de frutos recolectados y la cantidad de frutos producidos en total.\n",
        "Fórmula:\n",
        "```\n",
        "Índice de cosecha = (cantidad de frutos recolectados / cantidad de frutos producidos) * 100%\n",
        "```"
      ]
    },
    {
      "cell_type": "code",
      "execution_count": 1,
      "metadata": {
        "colab": {
          "base_uri": "https://localhost:8080/"
        },
        "id": "mwTqjlG9nSZF",
        "outputId": "c01bf3d3-8c45-4f6f-ec12-b122af0ef542"
      },
      "outputs": [
        {
          "name": "stdout",
          "output_type": "stream",
          "text": [
            "Ingrese la cantidad de frutos recolectados: 5\n",
            "Ingrese la cantidad total de frutos producidos: 6\n",
            "Índice de cosecha: 83.33333333333334 %\n"
          ]
        }
      ],
      "source": [
        "# Índice de cosecha\n",
        "frutos_recolectados = float(input(\"Ingrese la cantidad de frutos recolectados: \"))\n",
        "frutos_totales = float(input(\"Ingrese la cantidad total de frutos producidos: \"))\n",
        "indice_cosecha = (frutos_recolectados / frutos_totales) * 100\n",
        "print(\"Índice de cosecha:\", indice_cosecha, \"%\")"
      ]
    },
    {
      "cell_type": "markdown",
      "metadata": {
        "id": "7NOGmO2nnnb2"
      },
      "source": [
        "2. Dibujar la P de Python que abarque 7 filas y 5 columnas. Use solo una línea de código"
      ]
    },
    {
      "cell_type": "code",
      "execution_count": null,
      "metadata": {
        "colab": {
          "base_uri": "https://localhost:8080/"
        },
        "id": "H5bt3ggnntm0",
        "outputId": "7c2ebb96-2e06-4c70-9745-6f924ff4992c"
      },
      "outputs": [
        {
          "name": "stdout",
          "output_type": "stream",
          "text": [
            "+----------+\n",
            "|          |\n",
            "|          |\n",
            "|          |\n",
            "|          |\n",
            "|          |\n",
            "+----------+\n",
            "|          \n",
            "|          \n",
            "|          \n",
            "|          \n",
            "|          \n",
            " "
          ]
        }
      ],
      "source": [
        "# Dibujar la letra P de Python que abarque\n",
        "print(\"+\" + \"-\" * 10 + \"+\\n\" + ((\"|\" + \" \" * 10 + \"|\\n\") * 5) + \"+\" + \"-\" * 10 + \"+\\n\" + ((\"|\" + \" \" * 10 + \"\\n\") * 5), end=\" \")\n"
      ]
    },
    {
      "cell_type": "markdown",
      "metadata": {
        "id": "WdW97AMqn2Fv"
      },
      "source": [
        "3. Un alumno desea saber cuál será su calificación final en la materia de Matemáticas. Dicha calificación se compone de los siguientes porcentajes: 55% del promedio de sus tres calificaciones parciales (se debe leer cada calificación parcial). 30% de la calificación del examen final. 15% de la calificación de un trabajo final."
      ]
    },
    {
      "cell_type": "code",
      "execution_count": 3,
      "metadata": {
        "colab": {
          "base_uri": "https://localhost:8080/"
        },
        "id": "_8Mda4BcoKFa",
        "outputId": "e1a7996b-661e-44bd-c03f-72b23c7b2c75"
      },
      "outputs": [
        {
          "name": "stdout",
          "output_type": "stream",
          "text": [
            "Ingrese la primera calificación parcial: 3\n",
            "Ingrese la segunda calificación parcial: 4\n",
            "Ingrese la tercera calificación parcial: 5\n",
            "Ingrese la calificación del examen final: 2\n",
            "Ingrese la calificación del trabajo final: 1\n",
            "Calificación final: 2.95\n"
          ]
        }
      ],
      "source": [
        "# Calificación final en Matemáticas\n",
        "p1 = float(input(\"Ingrese la primera calificación parcial: \"))\n",
        "p2 = float(input(\"Ingrese la segunda calificación parcial: \"))\n",
        "p3 = float(input(\"Ingrese la tercera calificación parcial: \"))\n",
        "examen_final = float(input(\"Ingrese la calificación del examen final: \"))\n",
        "trabajo_final = float(input(\"Ingrese la calificación del trabajo final: \"))\n",
        "promedio_parciales = (p1 + p2 + p3) / 3\n",
        "calificacion_final = (0.55 * promedio_parciales) + (0.30 * examen_final) + (0.15 * trabajo_final)\n",
        "print(\"Calificación final:\", calificacion_final)"
      ]
    },
    {
      "cell_type": "markdown",
      "metadata": {
        "id": "fNuYKwy6oSJm"
      },
      "source": [
        "4. Recibir una frase por parte del usuario y devolver el número de palabras que se encuentran en la frase."
      ]
    },
    {
      "cell_type": "code",
      "execution_count": 6,
      "metadata": {
        "colab": {
          "base_uri": "https://localhost:8080/"
        },
        "id": "jxFaUlcqoX7v",
        "outputId": "bd4f4e2e-206a-4b27-ba4f-075073234bbb"
      },
      "outputs": [
        {
          "name": "stdout",
          "output_type": "stream",
          "text": [
            "Ingrese una frase: Hola mundo\n",
            "Número de palabras: 2\n"
          ]
        }
      ],
      "source": [
        "# Contar palabras en una frase\n",
        "frase = input(\"Ingrese una frase: \")\n",
        "print(\"Número de palabras:\", len(frase.split()))"
      ]
    },
    {
      "cell_type": "markdown",
      "metadata": {
        "id": "8Dg2kSIzon1A"
      },
      "source": [
        "5. Recibir una frase y transformarla a mayúscula sostenida e invirtiendo su contenido"
      ]
    },
    {
      "cell_type": "code",
      "execution_count": 7,
      "metadata": {
        "colab": {
          "base_uri": "https://localhost:8080/"
        },
        "id": "U4t0AbBQowKb",
        "outputId": "91b65467-0e52-40ad-8964-caf9129c04bf"
      },
      "outputs": [
        {
          "name": "stdout",
          "output_type": "stream",
          "text": [
            "Ingrese otra frase: hola\n",
            "ALOH\n"
          ]
        }
      ],
      "source": [
        "# Transformar frase a mayúsculas e invertirla\n",
        "frase = input(\"Ingrese otra frase: \")\n",
        "print(frase.upper()[::-1])"
      ]
    }
  ],
  "metadata": {
    "colab": {
      "provenance": []
    },
    "kernelspec": {
      "display_name": "Python 3",
      "name": "python3"
    },
    "language_info": {
      "name": "python"
    }
  },
  "nbformat": 4,
  "nbformat_minor": 0
}
