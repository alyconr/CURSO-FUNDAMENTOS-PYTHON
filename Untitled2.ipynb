{
  "cells": [
    {
      "cell_type": "code",
      "execution_count": null,
      "metadata": {
        "colab": {
          "base_uri": "https://localhost:8080/"
        },
        "id": "iPpxz98XNev7",
        "outputId": "14265fcf-cb0f-4576-9e5b-47739568a284"
      },
      "outputs": [
        {
          "name": "stdout",
          "output_type": "stream",
          "text": [
            "hooa mundo\n"
          ]
        }
      ],
      "source": [
        "\n"
      ]
    },
    {
      "cell_type": "markdown",
      "metadata": {
        "id": "oL2NCr7AN-ug"
      },
      "source": [
        "Realice un programa que calcule el índice de cosecha de un cultivo en función de la cantidad de frutos recolectados y la cantidad de frutos producidos en total.\n"
      ]
    },
    {
      "cell_type": "code",
      "execution_count": 26,
      "metadata": {
        "colab": {
          "base_uri": "https://localhost:8080/"
        },
        "id": "mvUPkhu-OAPp",
        "outputId": "c217f2e8-0d0a-41d8-ca4d-0e142769da1c"
      },
      "outputs": [
        {
          "name": "stdout",
          "output_type": "stream",
          "text": [
            "ingrese la cantidad de frutos recolectados: 5\n",
            "ingrese la cantidad de frutos producidos: 2\n",
            "El indice de cosecha es:  40.0%\n"
          ]
        }
      ],
      "source": [
        "frutos_recolectado = int(input(\"ingrese la cantidad de frutos recolectados: \"));\n",
        "frutos_produciodos = int(input(\"ingrese la cantidad de frutos producidos en total: \"));\n",
        "indice_cosecha =(frutos_produciodos/frutos_recolectado * 100);\n",
        "print(\"El indice de cosecha es: \", str(indice_cosecha)+\"%\");\n",
        "\n"
      ]
    },
    {
      "cell_type": "markdown",
      "metadata": {
        "id": "imM99A3ES6Y3"
      },
      "source": [
        "Dibujar la P de Python que abarque 7 filas y 5 columnas. Use solo una línea de código\n",
        "\n"
      ]
    },
    {
      "cell_type": "code",
      "execution_count": 40,
      "metadata": {
        "colab": {
          "base_uri": "https://localhost:8080/"
        },
        "id": "tyYSMNoCS80f",
        "outputId": "97339884-8bca-4a54-fe6e-7b49184d03a1"
      },
      "outputs": [
        {
          "name": "stdout",
          "output_type": "stream",
          "text": [
            "ppppppp\n",
            "p     p\n",
            "ppppppp\n",
            "p\n",
            "p\n"
          ]
        }
      ],
      "source": [
        "print(\"p\"* 5);\n",
        "print(\"p\" + \" \"* 7 + \"p\");\n",
        "print(\"p\"* 5);\n",
        "print(\"p\");\n",
        "print(\"p\");"
      ]
    },
    {
      "cell_type": "markdown",
      "metadata": {
        "id": "UPDHHQUpYHTn"
      },
      "source": [
        "Un alumno desea saber cuál será su calificación final en la materia de Matemáticas. Dicha calificación se compone de los siguientes porcentajes: 55% del promedio de sus tres calificaciones parciales (se debe leer cada calificación parcial). 30% de la calificación del examen final. 15% de la calificación de un trabajo final."
      ]
    },
    {
      "cell_type": "code",
      "execution_count": 66,
      "metadata": {
        "colab": {
          "base_uri": "https://localhost:8080/"
        },
        "id": "mcTx_-_rYIwP",
        "outputId": "900489b0-8400-460e-9c6c-ee9100131e19"
      },
      "outputs": [
        {
          "name": "stdout",
          "output_type": "stream",
          "text": [
            "ingrese su calificacion parcial: 10\n",
            "ingrese su calificacion parcial: 30\n",
            "ingrese su calificacion parcial: 50\n",
            "Ingrese su calificacion del examen final: 30\n",
            "ingrese su calificacion del trabajo final: 40\n",
            "Su calificacion final es:  31.5\n"
          ]
        }
      ],
      "source": [
        "primer_parcial = int(input(\"ingrese su calificacion parcial: \"));\n",
        "segundo_parcial = int(input(\"ingrese su calificacion parcial: \"));\n",
        "tercer_parcial = int(input(\"ingrese su calificacion parcial: \"));\n",
        "promedio_parcial = ((primer_parcial + segundo_parcial + tercer_parcial)/3);\n",
        "examen_final = int(input(\"Ingrese su calificacion del examen final: \"));\n",
        "trabajo_final = int(input(\"ingrese su calificacion del trabajo final: \"))\n",
        "calificacion_final = ((promedio_parcial * 0.55 + examen_final * 0.30 + trabajo_final * 0.15))\n",
        "print(\"Su calificacion final es: \", calificacion_final);\n",
        "\n"
      ]
    },
    {
      "cell_type": "markdown",
      "metadata": {
        "id": "dq-RPLXkLA77"
      },
      "source": [
        "Recibir una frase por parte del usuario y devolver el número de palabras que se encuentran en la frase."
      ]
    },
    {
      "cell_type": "code",
      "execution_count": 1,
      "metadata": {
        "colab": {
          "base_uri": "https://localhost:8080/"
        },
        "id": "TdMkKHN6LBsh",
        "outputId": "52b4cad7-ba32-4afa-df74-ca1c70b7328c"
      },
      "outputs": [
        {
          "name": "stdout",
          "output_type": "stream",
          "text": [
            "Ingrese una frase: hola mundo\n",
            "El número de palabras en la frase es: 2\n"
          ]
        }
      ],
      "source": [
        "frace = input(\"Ingrese una frase: \")\n",
        "palabras = frace.split()\n",
        "numero_palabras = len(palabras)\n",
        "print(\"El número de palabras en la frase es:\", numero_palabras)"
      ]
    },
    {
      "cell_type": "markdown",
      "metadata": {
        "id": "R6sjdrdkQwnf"
      },
      "source": [
        "Recibir una frase y transformarla a mayúscula sostenida e invirtiendo su contenido"
      ]
    },
    {
      "cell_type": "code",
      "execution_count": 3,
      "metadata": {
        "colab": {
          "base_uri": "https://localhost:8080/"
        },
        "id": "bESYsx7EQxcT",
        "outputId": "93766e2f-8030-4c45-82bd-6b70aaa61c27"
      },
      "outputs": [
        {
          "name": "stdout",
          "output_type": "stream",
          "text": [
            "ingrese una frase: hello mundo\n",
            "frase en mayuscula e invertida:  ODNUM OLLEH\n"
          ]
        }
      ],
      "source": [
        "frase = input(\"ingrese una frase: \");\n",
        "frase_mayuscula = frase.upper();\n",
        "frase_invertida = frase_mayuscula[::-1];\n",
        "print(\"frase en mayuscula e invertida: \", frase_invertida);"
      ]
    }
  ],
  "metadata": {
    "colab": {
      "provenance": []
    },
    "kernelspec": {
      "display_name": "Python 3",
      "name": "python3"
    },
    "language_info": {
      "name": "python"
    }
  },
  "nbformat": 4,
  "nbformat_minor": 0
}
