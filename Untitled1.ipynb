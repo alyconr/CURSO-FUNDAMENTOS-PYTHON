{
  "nbformat": 4,
  "nbformat_minor": 0,
  "metadata": {
    "colab": {
      "provenance": []
    },
    "kernelspec": {
      "name": "python3",
      "display_name": "Python 3"
    },
    "language_info": {
      "name": "python"
    }
  },
  "cells": [
    {
      "cell_type": "code",
      "source": [
        "frutosProducidos = 60\n",
        "frutosRecolectados = 3\n",
        "\n",
        "indicedecosecha = (frutosProducidos/frutosRecolectados*100)\n",
        "print(indicedecosecha)\n"
      ],
      "metadata": {
        "colab": {
          "base_uri": "https://localhost:8080/"
        },
        "id": "Qnu-Pm0qJlOt",
        "outputId": "346ac1dc-d1d5-402b-ea5f-c44848bed38c"
      },
      "execution_count": 2,
      "outputs": [
        {
          "output_type": "stream",
          "name": "stdout",
          "text": [
            "2000.0\n"
          ]
        }
      ]
    },
    {
      "cell_type": "code",
      "source": [
        "print(\"+\" + \"-\" * 7 + \"+\\n\" + ((\"|\" + \" \" * 7 + \"|\\n\") * 5) + \"+\" + \"-\" * 7 + \"+\\n\" + ((\"|\" + \" \" * 7 + \"\\n\") * 5), end=\" \")"
      ],
      "metadata": {
        "colab": {
          "base_uri": "https://localhost:8080/"
        },
        "id": "Oww7qGX3JpvO",
        "outputId": "05ddc993-7058-4592-e0b5-7f9a7db78f31"
      },
      "execution_count": null,
      "outputs": [
        {
          "output_type": "stream",
          "name": "stdout",
          "text": [
            "+-------+\n",
            "|       |\n",
            "|       |\n",
            "|       |\n",
            "|       |\n",
            "|       |\n",
            "+-------+\n",
            "|       \n",
            "|       \n",
            "|       \n",
            "|       \n",
            "|       \n",
            " "
          ]
        }
      ]
    },
    {
      "cell_type": "code",
      "source": [
        "nota1 =int(input(\"ingrese la primera nota\"))\n",
        "nota2 =int(input(\"ingrese la segunda nota\"))\n",
        "nota3 =int(input(\"ingrese la tercera nota\"))\n",
        "\n",
        "calificacionFinal = int(input(\"ingrese su nota final\"))\n",
        "trabajoFinal = int(input(\"ingrese su calificacion del trabajo final\"))\n",
        "\n",
        "promedio_notas = (nota1 + nota2 + nota3) / 3\n",
        "nota_final = (promedio_notas * 0.55) + (calificacionFinal * 0.30) + (trabajoFinal * 0.15)\n",
        "print (f\"Su nota final es:  {nota_final:.2f}\")"
      ],
      "metadata": {
        "colab": {
          "base_uri": "https://localhost:8080/"
        },
        "id": "R6eAV3FxKN5X",
        "outputId": "0c03c6a0-0121-44a3-87aa-dface8674b3a"
      },
      "execution_count": null,
      "outputs": [
        {
          "output_type": "stream",
          "name": "stdout",
          "text": [
            "ingrese la primera nota10\n",
            "ingrese la segunda nota2\n",
            "ingrese la tercera nota6\n",
            "ingrese su nota final3\n",
            "ingrese su calificacion del trabajo final5\n",
            "Su nota final es:  4.95\n"
          ]
        }
      ]
    },
    {
      "cell_type": "code",
      "source": [
        "cad = \"esternocleidomastoideo\"\n",
        "num_x = cad.count (\"o\")\n",
        "print(num_x)"
      ],
      "metadata": {
        "colab": {
          "base_uri": "https://localhost:8080/"
        },
        "id": "ma0WxtDzKVsp",
        "outputId": "7774c635-e5ef-446c-a31b-21dce568ddd5"
      },
      "execution_count": null,
      "outputs": [
        {
          "output_type": "stream",
          "name": "stdout",
          "text": [
            "4\n"
          ]
        }
      ]
    },
    {
      "cell_type": "code",
      "source": [
        "cad = \"el calvo le gusta el shampoo\".lower()\n",
        "cad1 = cad.upper()\n",
        "\n",
        "print (cad1)\n",
        "cadInvertida = cad1[::-1]\n",
        "\n",
        "print(cadInvertida)"
      ],
      "metadata": {
        "id": "Uh8y0qbuKdAF",
        "outputId": "dab952c6-48f8-4c59-a57a-de5818430dd9",
        "colab": {
          "base_uri": "https://localhost:8080/"
        }
      },
      "execution_count": null,
      "outputs": [
        {
          "output_type": "stream",
          "name": "stdout",
          "text": [
            "EL CALVO LE GUSTA EL SHAMPOO\n",
            "OOPMAHS LE ATSUG EL OVLAC LE\n"
          ]
        }
      ]
    }
  ]
}