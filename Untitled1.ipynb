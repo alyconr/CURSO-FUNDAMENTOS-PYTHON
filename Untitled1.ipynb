{
  "nbformat": 4,
  "nbformat_minor": 0,
  "metadata": {
    "colab": {
      "provenance": [],
      "toc_visible": true
    },
    "kernelspec": {
      "name": "python3",
      "display_name": "Python 3"
    },
    "language_info": {
      "name": "python"
    }
  },
  "cells": [
    {
      "cell_type": "markdown",
      "source": [
        "# **Apropiación**"
      ],
      "metadata": {
        "id": "AopzNLQ4Y_z4"
      }
    },
    {
      "cell_type": "markdown",
      "source": [
        "1. Realice un programa que calcule el índice de cosecha de un cultivo en función de la cantidad de frutos recolectados y la cantidad de frutos producidos en total.\n",
        "\n",
        "Fórmula:\n",
        "\n",
        "Índice de cosecha = (cantidad de frutos recolectados / cantidad de frutos producidos) 100%"
      ],
      "metadata": {
        "id": "hlyUuZYqZV5S"
      }
    },
    {
      "cell_type": "code",
      "source": [
        "\n",
        "def calcular_indice_cosecha(frutos_recolectados, frutos_producidos):\n",
        "    indice_cosecha = (frutos_recolectados / frutos_producidos) * 100\n",
        "    return indice_cosecha\n",
        "\n",
        "#Ingrese la cantidad de frutos recolectados y frutos producidos\n",
        "\n",
        "frutos_recolectados = int(input(\"Ingrese la cantidad de frutos recolectados: \"))\n",
        "frutos_producidos = int(input(\"Ingrese la cantidad de frutos producidos en total: \"))\n",
        "\n",
        "indice_cosecha = calcular_indice_cosecha(frutos_recolectados, frutos_producidos)\n",
        "print(f\"El índice de cosecha es: {indice_cosecha:.0f}%\")\n"
      ],
      "metadata": {
        "colab": {
          "base_uri": "https://localhost:8080/"
        },
        "id": "wDNlajQbR9v9",
        "outputId": "29d2d9fc-028d-4883-8008-0f5bf7978d4c"
      },
      "execution_count": null,
      "outputs": [
        {
          "output_type": "stream",
          "name": "stdout",
          "text": [
            "Ingrese la cantidad de frutos recolectados: 100\n",
            "Ingrese la cantidad de frutos producidos en total: 345\n",
            "El índice de cosecha es: 29%\n"
          ]
        }
      ]
    },
    {
      "cell_type": "markdown",
      "source": [
        "2. Dibujar la P de Python que abarque 7 filas y 5 columnas. Use solo una línea de código\n"
      ],
      "metadata": {
        "id": "kROz2webXIKs"
      }
    },
    {
      "cell_type": "code",
      "source": [
        "\n",
        "print (\"+\" + 7 * \"-\" + \"+\")\n",
        "print ((\"|\" + \" \" *7 + \"|\\n\")* 5, end = \"\")\n",
        "print (\"+\" + 7 * \"-\" + \"+\")\n",
        "print ((\"|\" + \"\" * 7 + \"\\n\")* 5, end = \"\")"
      ],
      "metadata": {
        "colab": {
          "base_uri": "https://localhost:8080/"
        },
        "id": "SUDM_7Usaosr",
        "outputId": "72b3375b-b8c7-4e50-fb4f-9d57715b4f70"
      },
      "execution_count": null,
      "outputs": [
        {
          "output_type": "stream",
          "name": "stdout",
          "text": [
            "+-------+\n",
            "|       |\n",
            "|       |\n",
            "|       |\n",
            "|       |\n",
            "|       |\n",
            "+-------+\n",
            "|\n",
            "|\n",
            "|\n",
            "|\n",
            "|\n"
          ]
        }
      ]
    },
    {
      "cell_type": "markdown",
      "source": [
        "3. Un alumno desea saber cuál será su calificación final en la materia de Matemáticas. Dicha calificación se compone de los siguientes porcentajes: 55% del promedio de sus tres calificaciones parciales (se debe leer cada calificación parcial). 30% de la calificación del examen final. 15% de la calificación de un trabajo final."
      ],
      "metadata": {
        "id": "VdET0SKFdMzJ"
      }
    },
    {
      "cell_type": "code",
      "source": [
        "# Función para calcular la calificación final del alumno\n",
        "def calcular_calificacion_final(calificaciones_parciales, examen_final, trabajo_final):\n",
        "\n",
        "    # Calcular el promedio de todas las calificaciones parciales\n",
        "    promedio_parciales = sum(calificaciones_parciales) /len(calificaciones_parciales)\n",
        "\n",
        "    # Calcular el total de la calificación final\n",
        "    calificacion_final = (promedio_parciales * 0.55) + (examen_final * 0.30) + (trabajo_final * 0.15)\n",
        "\n",
        "    return calificacion_final\n",
        "\n",
        "# Solicitar todas las calificaciones parciales\n",
        "calificaciones_parciales = []\n",
        "for i in range(1, 4):\n",
        "    calificacion = float(input(f\"Ingrese la calificación parcial {i}: \"))\n",
        "    calificaciones_parciales.append(calificacion)\n",
        "\n",
        "#  Diligenciar la calificación del ultimo examen final\n",
        "examen_final = float(input(\"Ingrese la calificación del ultimo examen final: \"))\n",
        "\n",
        "# Diligenciar la calificación del trabajo final\n",
        "trabajo_final = float(input(\"Ingrese la calificación del trabajo final: \"))\n",
        "\n",
        "# Calcular el total de la calificación final\n",
        "calificacion_final = calcular_calificacion_final(calificaciones_parciales, examen_final, trabajo_final)\n",
        "\n",
        "# Mostrar el porcentaje de la calificación final\n",
        "print(f\"La calificación final del alumno es: {calificacion_final:.0f}\")"
      ],
      "metadata": {
        "colab": {
          "base_uri": "https://localhost:8080/"
        },
        "id": "fRBiMk2cdQ2Z",
        "outputId": "77f1f7f8-ce96-479b-d966-9031009eeeac"
      },
      "execution_count": null,
      "outputs": [
        {
          "output_type": "stream",
          "name": "stdout",
          "text": [
            "Ingrese la calificación parcial 1: 50\n",
            "Ingrese la calificación parcial 2: 40\n",
            "Ingrese la calificación parcial 3: 35\n",
            "Ingrese la calificación del examen final: 30\n",
            "Ingrese la calificación del trabajo final: 50\n",
            "La calificación final del alumno es: 39\n"
          ]
        }
      ]
    },
    {
      "cell_type": "markdown",
      "source": [
        "4. Recibir una frase por parte del usuario y devolver el número de palabras que se encuentran en la frase."
      ],
      "metadata": {
        "id": "1Xbfo0eYhEOl"
      }
    },
    {
      "cell_type": "code",
      "source": [
        "# Ingresa una frase\n",
        "frase = input(\"Por favor, introduce una frase: \")\n",
        "\n",
        "# Contar el número de las palabras en la frase\n",
        "numero_de_palabras = len(frase.split())\n",
        "\n",
        "# Devolver el número de las palabras\n",
        "print(f\"La frase contiene {numero_de_palabras} palabras.\")"
      ],
      "metadata": {
        "colab": {
          "base_uri": "https://localhost:8080/"
        },
        "id": "eq1qlwNQhGgw",
        "outputId": "e75a4874-6f80-4e9c-f7a6-1c14df2df27c"
      },
      "execution_count": null,
      "outputs": [
        {
          "output_type": "stream",
          "name": "stdout",
          "text": [
            "Por favor, introduce una frase: Juliana animos, tu puedes\n",
            "La frase contiene 4 palabras.\n"
          ]
        }
      ]
    },
    {
      "cell_type": "markdown",
      "source": [
        "5. Recibir una frase y transformarla a mayúscula sostenida e invirtiendo su contenido"
      ],
      "metadata": {
        "id": "n7OBIkdZHAc8"
      }
    },
    {
      "cell_type": "markdown",
      "source": [],
      "metadata": {
        "id": "LghQBLTuHBht"
      }
    },
    {
      "cell_type": "code",
      "source": [
        "def transformar_frase():\n",
        "    frase_transformada = frase.upper()[::-1]  # Convierte la frase a mayúsculas y luego la invierte\n",
        "    return frase_transformada\n",
        "\n",
        "# introduzca una frase\n",
        "frase = input(\"Introduce una frase: \")\n",
        "resultado = transformar_frase()  # llama a la función con la frase ingresada\n",
        "print(\"Frase transformada:\", resultado)  # Imprime el resultado"
      ],
      "metadata": {
        "colab": {
          "base_uri": "https://localhost:8080/"
        },
        "id": "ZAXkev66NzRt",
        "outputId": "020d466a-8818-49be-da72-a4f564bd7515"
      },
      "execution_count": null,
      "outputs": [
        {
          "output_type": "stream",
          "name": "stdout",
          "text": [
            "Introduce una frase: Hola como estas \n",
            "Frase transformada:  SATSE OMOC ALOH\n"
          ]
        }
      ]
    }
  ]
}