{
  "nbformat": 4,
  "nbformat_minor": 0,
  "metadata": {
    "colab": {
      "provenance": []
    },
    "kernelspec": {
      "name": "python3",
      "display_name": "Python 3"
    },
    "language_info": {
      "name": "python"
    }
  },
  "cells": [
    {
      "cell_type": "markdown",
      "source": [
        "1.Realice un programa que calcule el índice de cosecha de un cultivo en función de la cantidad de frutos recolectados y la cantidad de frutos producidos en total.\n",
        "Fórmula:\n",
        "\n",
        "Índice de cosecha = (cantidad de frutos recolectados / cantidad de frutos producidos) * 100%"
      ],
      "metadata": {
        "id": "hsCjrBCggIUV"
      }
    },
    {
      "cell_type": "code",
      "execution_count": null,
      "metadata": {
        "id": "lu913I39fo7v"
      },
      "outputs": [],
      "source": [
        "cantidad_de_frutos_recolectados = int(input(\"ingrese el número de frutos recolectados:\") )\n",
        "#El usuario debe ingresar el número de frutos recolectados\n",
        "cantidad_de_frutos_producidos =int(input(\"ingrese la cantidad de frutos producidos:\"))\n",
        "#El usuario debe ingresar el número de frutos producidos\n",
        "indice_cosecha =(cantidad_de_frutos_recolectados / cantidad_de_frutos_producidos)*100\n",
        "#La cantidad de frutos recolectados se divide por los frutos producidos y el resultado de este se multiplica por 100 para dar como resultado el porcentaje\n",
        "print(f\"El indice de cosecha fue del: {indice_cosecha}%\")\n",
        "#El código imprime el resultado del indice de cosecha en porcentaje"
      ]
    },
    {
      "cell_type": "markdown",
      "source": [
        "2.Dibujar la P de Python que abarque 7 filas y 5 columnas. Use solo una línea de código"
      ],
      "metadata": {
        "id": "jPiwHAXFgL3s"
      }
    },
    {
      "cell_type": "code",
      "source": [
        "print('\\n'.join(['*******', '*     *','*******','*','*']))#El \"\\n\" crea un salto de linea, pero al encontrarse en cadena crea una secuencia en donde el texto que sigue comienza en una nueva linea"
      ],
      "metadata": {
        "id": "b6Fe2LbnfyJ0"
      },
      "execution_count": null,
      "outputs": []
    },
    {
      "cell_type": "markdown",
      "source": [
        "3.Un alumno desea saber cuál será su calificación final en la materia de Matemáticas. Dicha calificación se compone de los siguientes porcentajes: 55% del promedio de sus tres calificaciones parciales (se debe leer cada calificación parcial). 30% de la calificación del examen final. 15% de la calificación de un trabajo final."
      ],
      "metadata": {
        "id": "472QQui2gR7k"
      }
    },
    {
      "cell_type": "code",
      "source": [
        "#El usuario ingresa sus calificaciones parciales\n",
        "calificacion_1 = int(input(\"Ingrese la calificación parcial #1: \"))\n",
        "calificacion_2 = int(input(\"Ingrese la calificación parcial #2: \"))\n",
        "calificacion_3 = int(input(\"Ingrese la calificación parcial #3: \"))\n",
        "#El usurio ingresa su calificación del examen final\n",
        "examen_final = int(input(\"Ingrese la calificación del examen final: \"))\n",
        "#El usuario ingresa su calificación del trabajo final\n",
        "trabajo_final = int( input(\"Ingrese la calificación del trabajo final: \"))\n",
        "#Se calcula el promedio de las calificaciones parciales\n",
        "promedio_parciales = (calificacion_1 + calificacion_2 + calificacion_3)/3\n",
        "#Se calcula la calificación final\n",
        "calificación_final = (promedio_parciales * 0.55) + (examen_final * 0.30) + (trabajo_final * 0.15)\n",
        "#Se imprime el resultado de la calificación final\n",
        "print(f\"La calificación final es: {calificación_final}\")"
      ],
      "metadata": {
        "id": "U9k6Fsu3f2RE"
      },
      "execution_count": null,
      "outputs": []
    },
    {
      "cell_type": "markdown",
      "source": [
        "4.Recibir una frase por parte del usuario y devolver el número de palabras que se encuentran en la frase."
      ],
      "metadata": {
        "id": "mRa0Oq1_gXLN"
      }
    },
    {
      "cell_type": "code",
      "source": [
        "#El usuario ingresa una frase\n",
        "frase = input(\"Ingrese una frase: \")\n",
        "#Contar el número de palabras ingresadas\n",
        "numero_palabras =len(frase.split())\n",
        "#La función \"len\" cuenta las palabras las cuales son separadas con la función \"split\", la cual usa los espacios como divisores\n",
        "#Se imprime el número de palabras ingresadas\n",
        "print(f\"El número de palabras ingresadas son: {numero_palabras}\")"
      ],
      "metadata": {
        "id": "zo9-LV3ff5xE"
      },
      "execution_count": null,
      "outputs": []
    },
    {
      "cell_type": "markdown",
      "source": [
        "5.Recibir una frase y transformarla a mayúscula sostenida e invirtiendo su contenido"
      ],
      "metadata": {
        "id": "8cs3r53rggI0"
      }
    },
    {
      "cell_type": "code",
      "source": [
        "#El usuario ingresa ina frase\n",
        "frase = input(\"Ingres una frase: \")\n",
        "#Se transforma la frase a mayuscula usando \"upper\"\n",
        "frase_mayuscula = frase.upper()\n",
        "#Se utiliza \"[::-1]\" para invertir la cadena o en este caso la frase\n",
        "frase_invertida = frase_mayuscula [::-1]\n",
        "#Se imprime la frase en mayuscula e invertida\n",
        "print(f\"La frase ingresada en mayuscula sostenida e invertida es:{frase_invertida}\")"
      ],
      "metadata": {
        "id": "Amo1h80bf8zc"
      },
      "execution_count": null,
      "outputs": []
    }
  ]
}