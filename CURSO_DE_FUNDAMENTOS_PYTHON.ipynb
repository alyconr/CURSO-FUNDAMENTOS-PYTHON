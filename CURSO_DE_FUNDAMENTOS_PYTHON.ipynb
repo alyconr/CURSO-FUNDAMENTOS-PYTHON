{
  "nbformat": 4,
  "nbformat_minor": 0,
  "metadata": {
    "colab": {
      "provenance": []
    },
    "kernelspec": {
      "name": "python3",
      "display_name": "Python 3"
    },
    "language_info": {
      "name": "python"
    }
  },
  "cells": [
    {
      "cell_type": "markdown",
      "source": [
        "Realice un programa que calcule el índice de cosecha de un cultivo en función de la cantidad de frutos recolectados y la cantidad de frutos producidos en total.\n",
        "Fórmula:\n",
        "\n",
        "Índice de cosecha = (cantidad de frutos recolectados / cantidad de frutos producidos) * 100%\n"
      ],
      "metadata": {
        "id": "C3eKz7anwNzo"
      }
    },
    {
      "cell_type": "code",
      "source": [
        "Cantidad_de_frutos=int(input(\"ingresa la cantidad de frutos recolectados\"))\n",
        "Cantidad_de_frutos_producidos=int(input(\"ingresa la cantidad de frutos producidos\"))\n",
        "Indice_de_cosecha=Cantidad_de_frutos/Cantidad_de_frutos_producidos*100\n",
        "print(\"El indice de un cultivo es: \"+str(Indice_de_cosecha)+\"%\")"
      ],
      "metadata": {
        "colab": {
          "base_uri": "https://localhost:8080/"
        },
        "id": "7BcUylbjwPd-",
        "outputId": "c2c44592-d521-4793-f4e3-4e7abef39949"
      },
      "execution_count": 6,
      "outputs": [
        {
          "output_type": "stream",
          "name": "stdout",
          "text": [
            "ingresa la cantidad de frutos recolectados4\n",
            "ingresa la cantidad de frutos producidos6\n",
            "El indice de un cultivo es: 66.66666666666666%\n"
          ]
        }
      ]
    },
    {
      "cell_type": "markdown",
      "source": [
        "Dibujar la P de Python que abarque 7 filas y 5 columnas. Use solo una línea de código"
      ],
      "metadata": {
        "id": "iFNaXMszy4p_"
      }
    },
    {
      "cell_type": "code",
      "source": [
        "print ((\" -\" + 5 * \"-\" ) )\n",
        "print ((\"|\" + \" \" * 7 + \"|\\n\") * 5, end=\"\")\n",
        "print ((\" -\" + 5 * \"-\" ) )\n",
        "print ((\"|\" + \" \" * 5 + \"\\n\")* 5)"
      ],
      "metadata": {
        "colab": {
          "base_uri": "https://localhost:8080/"
        },
        "id": "qZW2NJP1y7xI",
        "outputId": "1d7a89ae-8025-4791-cee2-3f16c707755d"
      },
      "execution_count": 8,
      "outputs": [
        {
          "output_type": "stream",
          "name": "stdout",
          "text": [
            " ------\n",
            "|       |\n",
            "|       |\n",
            "|       |\n",
            "|       |\n",
            "|       |\n",
            " ------\n",
            "|     \n",
            "|     \n",
            "|     \n",
            "|     \n",
            "|     \n",
            "\n"
          ]
        }
      ]
    },
    {
      "cell_type": "markdown",
      "source": [
        "Un alumno desea saber cuál será su calificación final en la materia de Matemáticas. Dicha calificación se compone de los siguientes porcentajes: 55% del promedio de sus tres calificaciones parciales (se debe leer cada calificación parcial). 30% de la calificación del examen final. 15% de la calificación de un trabajo final."
      ],
      "metadata": {
        "id": "PxCchOr6znx_"
      }
    },
    {
      "cell_type": "code",
      "source": [
        "numero_parciales = int(input(\"Ingrese el número de parciales: \"))\n",
        "promedio_parciales = sum(float(input(f\"Ingrese la calificación del parcial {i + 1}: \")) for i in range(numero_parciales)) / numero_parciales\n",
        "examen_final = float(input(\"Ingrese la calificaión del examen final: \"))\n",
        "trabajo_final = float(input(\"Ingrese la calificación del trabajo final: \"))\n",
        "calificacion_final = (promedio_parciales * 0.55) + (examen_final * 0.30) + (trabajo_final * 0.15)\n",
        "print(\"La calificaión final de matemáticas es: {:.2f}\".format(calificacion_final))\n"
      ],
      "metadata": {
        "colab": {
          "base_uri": "https://localhost:8080/"
        },
        "id": "mHOrxVn6zqnv",
        "outputId": "63cf76bf-7f47-4abe-8573-3596d886f5ff"
      },
      "execution_count": 14,
      "outputs": [
        {
          "output_type": "stream",
          "name": "stdout",
          "text": [
            "Ingrese el número de parciales: 3\n",
            "Ingrese la calificación del parcial 1: 9\n",
            "Ingrese la calificación del parcial 2: 8\n",
            "Ingrese la calificación del parcial 3: 10\n",
            "Ingrese la calificaión del examen final: 7\n",
            "Ingrese la calificación del trabajo final: 8\n",
            "La calificaión final de matemáticas es: 8.25\n"
          ]
        }
      ]
    },
    {
      "cell_type": "markdown",
      "source": [
        "Recibir una frase por parte del usuario y devolver el número de palabras que se encuentran en la frase."
      ],
      "metadata": {
        "id": "g2sLacou2J-I"
      }
    },
    {
      "cell_type": "code",
      "source": [
        "Frace = input(\"Ingrese una frase: \")\n",
        "palabras = Frace.split()\n",
        "Número_palabras = len(palabras)\n",
        "print(\"El número de palabras en la frase es:\", Número_palabras)"
      ],
      "metadata": {
        "colab": {
          "base_uri": "https://localhost:8080/"
        },
        "id": "2uLbiLWw2M3w",
        "outputId": "be262518-a937-48e6-d032-15e2ef32153b"
      },
      "execution_count": 16,
      "outputs": [
        {
          "output_type": "stream",
          "name": "stdout",
          "text": [
            "Ingrese una frase: hola a a a\n",
            "El número de palabras en la frase es: 4\n"
          ]
        }
      ]
    },
    {
      "cell_type": "markdown",
      "source": [
        "Recibir una frase y transformarla a mayúscula sostenida e invirtiendo su contenido"
      ],
      "metadata": {
        "id": "HC3zdxNF3KPg"
      }
    },
    {
      "cell_type": "code",
      "source": [
        "frace = input(\"Ingrese una frase: \")\n",
        "frace_mayuscula = frace.upper()\n",
        "frace_invertida = frace_mayuscula[::-1]\n",
        "print(\"Frase en mayuscula sostenida e invertida:\", frace_invertida)\n",
        "#"
      ],
      "metadata": {
        "colab": {
          "base_uri": "https://localhost:8080/"
        },
        "id": "o_8OYaoc3NtA",
        "outputId": "a8ebcf65-a90b-49f9-ccd0-5d073915b98b"
      },
      "execution_count": 26,
      "outputs": [
        {
          "output_type": "stream",
          "name": "stdout",
          "text": [
            "Ingrese una frase: hola mundo\n",
            "Frase en mayuscula sostenida e invertida: ODNUM ALOH\n"
          ]
        }
      ]
    }
  ]
}