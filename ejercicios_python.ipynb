{
  "nbformat": 4,
  "nbformat_minor": 0,
  "metadata": {
    "colab": {
      "provenance": []
    },
    "kernelspec": {
      "name": "python3",
      "display_name": "Python 3"
    },
    "language_info": {
      "name": "python"
    }
  },
  "cells": [
    {
      "cell_type": "code",
      "source": [
        "cantidad_frutos_producidos = int(input(\"Ingrese el numero de frutos producidos \"))\n",
        "cantidad_frutos_recolectados = int(input(\"Ingrese el numero de frutos recolectados \"))\n",
        "porcentaje = (cantidad_frutos_recolectados / cantidad_frutos_producidos) * 100\n",
        "print(f\"Los frutos recolectados fueron {porcentaje:.2f}%\")"
      ],
      "metadata": {
        "colab": {
          "base_uri": "https://localhost:8080/"
        },
        "id": "QlHZhpUTd1lh",
        "outputId": "f5f8b0b6-7395-4098-cccc-68229fb3e9d6"
      },
      "execution_count": null,
      "outputs": [
        {
          "output_type": "stream",
          "name": "stdout",
          "text": [
            "Ingrese el numero de frutos producidos 500000\n",
            "Ingrese el numero de frutos recolectados 20000\n",
            "Los frutos recolectados fueron 4.00%\n"
          ]
        }
      ]
    },
    {
      "cell_type": "code",
      "source": [
        "print(\"|||||\\n|   |\\n|   |\\n|||||\\n| \\n| \\n|\")"
      ],
      "metadata": {
        "colab": {
          "base_uri": "https://localhost:8080/"
        },
        "id": "VpZHfFm_w8_B",
        "outputId": "7aa82d8a-385c-4c58-e96d-3dcbbf32fcac"
      },
      "execution_count": null,
      "outputs": [
        {
          "output_type": "stream",
          "name": "stdout",
          "text": [
            "|||||\n",
            "|   |\n",
            "|   |\n",
            "|||||\n",
            "| \n",
            "| \n",
            "|\n"
          ]
        }
      ]
    },
    {
      "cell_type": "code",
      "source": [
        "Trabajo1 = float(input(\"Ingrese la primera nota: \"))\n",
        "Trabajo2 = float(input(\"Ingrese la segunda nota: \"))\n",
        "Trabajo3 = float(input(\"Ingrese la tercera nota: \"))\n",
        "exa_final = float(input(\"Ingrese la nota de su examen final: \"))\n",
        "trabajo_final = float(input(\"Ingrese la nota de su trabajo final: \"))\n",
        "\n",
        "promedio_notas = (Trabajo1 + Trabajo2 + Trabajo3) / 3 * 0.55 + exa_final * 0.3 + trabajo_final * 0.15\n",
        "print(f\"su nota final es: {promedio_notas:.2f}\")"
      ],
      "metadata": {
        "colab": {
          "base_uri": "https://localhost:8080/"
        },
        "id": "Av6c37vhxx-T",
        "outputId": "8a4f5d49-190f-4d01-f7fb-fb1aba260ca8"
      },
      "execution_count": null,
      "outputs": [
        {
          "output_type": "stream",
          "name": "stdout",
          "text": [
            "Ingrese la primera nota: 30\n",
            "Ingrese la segunda nota: 30\n",
            "Ingrese la tercera nota: 30\n",
            "Ingrese la nota de su examen final: 30\n",
            "Ingrese la nota de su trabajo final: 30\n",
            "su nota final es: 30.00\n"
          ]
        }
      ]
    },
    {
      "cell_type": "code",
      "source": [
        "frase = input(\"Ingrese una frase \")\n",
        "num_palabras = len(frase.split())\n",
        "print(f\"La frase tiene {num_palabras} palabras.\")"
      ],
      "metadata": {
        "colab": {
          "base_uri": "https://localhost:8080/"
        },
        "id": "UAFO6_MLyxec",
        "outputId": "12714ef1-9851-4142-c17f-216c53f453af"
      },
      "execution_count": null,
      "outputs": [
        {
          "output_type": "stream",
          "name": "stdout",
          "text": [
            "Ingrese una frase hola mundo\n",
            "La frase tiene 2 palabras.\n"
          ]
        }
      ]
    },
    {
      "cell_type": "code",
      "source": [
        "frase = input(\"Ingrese una frase: \")\n",
        "frase_transformada = frase.upper()[::-1]\n",
        "print(f\"Frase transformada: {frase_transformada}\")"
      ],
      "metadata": {
        "colab": {
          "base_uri": "https://localhost:8080/"
        },
        "id": "yn1nsRMTy5DJ",
        "outputId": "7e8ac108-315f-4ea6-f8bc-fcb98884af45"
      },
      "execution_count": null,
      "outputs": [
        {
          "output_type": "stream",
          "name": "stdout",
          "text": [
            "Ingrese una frase: holamundo\n",
            "Frase transformada: ODNUMALOH\n"
          ]
        }
      ]
    }
  ]
}