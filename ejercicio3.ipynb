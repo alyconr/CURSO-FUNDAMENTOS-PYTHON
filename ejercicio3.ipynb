{
 "cells": [
  {
   "cell_type": "code",
   "execution_count": 1,
   "metadata": {},
   "outputs": [
    {
     "name": "stdout",
     "output_type": "stream",
     "text": [
      "La calificación final en matemáticas es: 28.833333333333336\n"
     ]
    }
   ],
   "source": [
    "print(\"La calificación final en matemáticas es:\", \n",
    "      (((int(input(\"Ingrese la primera calificación parcial: \")) + \n",
    "         int(input(\"Ingrese la segunda calificación parcial: \")) + \n",
    "         int(input(\"Ingrese la tercera calificación parcial: \"))) / 3) * 0.55) + \n",
    "      (int(input(\"Ingrese la calificación del examen final: \")) * 0.30) + \n",
    "      (int(input(\"Ingrese la calificación del trabajo final: \")) * 0.15))\n"
   ]
  }
 ],
 "metadata": {
  "kernelspec": {
   "display_name": "Python 3",
   "language": "python",
   "name": "python3"
  },
  "language_info": {
   "codemirror_mode": {
    "name": "ipython",
    "version": 3
   },
   "file_extension": ".py",
   "mimetype": "text/x-python",
   "name": "python",
   "nbconvert_exporter": "python",
   "pygments_lexer": "ipython3",
   "version": "3.11.4"
  }
 },
 "nbformat": 4,
 "nbformat_minor": 2
}
