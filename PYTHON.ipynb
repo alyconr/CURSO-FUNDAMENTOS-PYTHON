{
  "cells": [
    {
      "cell_type": "code",
      "execution_count": null,
      "metadata": {
        "colab": {
          "base_uri": "https://localhost:8080/"
        },
        "id": "T1b-m2hk1R1L",
        "outputId": "d52db7cf-77f9-4b7d-aff7-85447e411a34"
      },
      "outputs": [
        {
          "name": "stdout",
          "output_type": "stream",
          "text": [
            "2.5\n",
            "1\n",
            "25\n",
            "3\n"
          ]
        }
      ],
      "source": [
        "print(5/2)\n",
        "print (5%2)\n",
        "print (5**2)\n",
        "print (15//4)\n"
      ]
    },
    {
      "cell_type": "code",
      "execution_count": null,
      "metadata": {
        "colab": {
          "base_uri": "https://localhost:8080/"
        },
        "id": "Apls4rfu3FKL",
        "outputId": "4bb350cb-2d0f-415c-c1a8-aa2f0dddd5ef"
      },
      "outputs": [
        {
          "name": "stdout",
          "output_type": "stream",
          "text": [
            "4490000 4490000\n"
          ]
        }
      ],
      "source": [
        "x=1_250_000 + 3_240_000\n",
        "y= 1250000 + 3240000\n",
        "print (x,y)"
      ]
    },
    {
      "cell_type": "code",
      "execution_count": null,
      "metadata": {
        "id": "I0HDddmU5wa5"
      },
      "outputs": [],
      "source": []
    },
    {
      "cell_type": "code",
      "execution_count": null,
      "metadata": {
        "colab": {
          "base_uri": "https://localhost:8080/"
        },
        "id": "3YY_Bbel3cpj",
        "outputId": "4f6d380a-b054-47cf-9773-6723493a24a9"
      },
      "outputs": [
        {
          "name": "stdout",
          "output_type": "stream",
          "text": [
            "12\n",
            "5\n",
            "10\n",
            "18\n",
            "0x7c\n",
            "0b101\n",
            "0o5041\n"
          ]
        }
      ],
      "source": [
        "print(12)\n",
        "print(0b101)\n",
        "print (0o12)\n",
        "print (0x12)\n",
        "print(hex(0o174))\n",
        "print(bin(5))\n",
        "print(oct(0xA21))"
      ]
    },
    {
      "cell_type": "code",
      "execution_count": null,
      "metadata": {
        "id": "lEOaLRgp6n2c"
      },
      "outputs": [],
      "source": [
        "print (1 & 3) #01 & 11\n",
        "print ( 21| 12) # 01| 11\n",
        "print (5 & 8) #"
      ]
    },
    {
      "cell_type": "code",
      "execution_count": null,
      "metadata": {
        "colab": {
          "base_uri": "https://localhost:8080/"
        },
        "id": "uxC_Ziij-I1d",
        "outputId": "4570a289-a3ba-4b3b-aac1-14b2d7b5913d"
      },
      "outputs": [
        {
          "name": "stdout",
          "output_type": "stream",
          "text": [
            "0b1\n",
            "0b11\n",
            "1\n"
          ]
        }
      ],
      "source": [
        "print (bin(1))\n",
        "print (bin(3))\n",
        "x= 0b1\n",
        "y=0b11\n",
        "print(x&y)"
      ]
    },
    {
      "cell_type": "code",
      "execution_count": null,
      "metadata": {
        "colab": {
          "base_uri": "https://localhost:8080/"
        },
        "id": "l_q1867M8w-z",
        "outputId": "2d3e8d70-ae99-491b-c30a-72cb74e2d3f7"
      },
      "outputs": [
        {
          "name": "stdout",
          "output_type": "stream",
          "text": [
            "0b10101\n",
            "0b1100\n",
            "4\n",
            "29\n"
          ]
        }
      ],
      "source": [
        "print (bin(21))\n",
        "print (bin(12))\n",
        "x=0b10101\n",
        "y=0b1100\n",
        "print (x&y)\n",
        "print (x|y)\n",
        "\n"
      ]
    },
    {
      "cell_type": "code",
      "execution_count": null,
      "metadata": {
        "colab": {
          "base_uri": "https://localhost:8080/"
        },
        "id": "9kclZvIL9lRF",
        "outputId": "71913198-a826-4ed1-a374-41bf45226eea"
      },
      "outputs": [
        {
          "name": "stdout",
          "output_type": "stream",
          "text": [
            "0b101\n",
            "0b1000\n",
            "0\n"
          ]
        }
      ],
      "source": [
        "print (bin(5))\n",
        "print (bin(8))\n",
        "x=0b101\n",
        "y=0b1000\n",
        "print(x&y)"
      ]
    },
    {
      "cell_type": "code",
      "execution_count": null,
      "metadata": {
        "id": "VXdIT3Sk_TZk"
      },
      "outputs": [],
      "source": []
    },
    {
      "cell_type": "code",
      "execution_count": null,
      "metadata": {
        "colab": {
          "base_uri": "https://localhost:8080/"
        },
        "id": "eLZstsdg-dD7",
        "outputId": "bc7322a4-dd91-49e3-a82a-5b524509dd9d"
      },
      "outputs": [
        {
          "name": "stdout",
          "output_type": "stream",
          "text": [
            "False\n",
            "True\n",
            "True\n",
            "<class 'int'>\n",
            "<class 'int'>\n",
            "False\n",
            "True\n"
          ]
        }
      ],
      "source": [
        "print (3>5) #false\n",
        "print (3<=5) #true\n",
        "print (3 != 5)#true\n",
        "print(type(3)) is type (5) #true\n",
        "print (type(3)) is type (5-0) #false\n",
        "print(3 in [4,5,6]) #false\n",
        "print (3 in [4,3,5]) #true\n"
      ]
    },
    {
      "cell_type": "code",
      "execution_count": null,
      "metadata": {
        "colab": {
          "base_uri": "https://localhost:8080/"
        },
        "id": "_0Lz6Y90_wz0",
        "outputId": "e7043dfb-c3b4-42b2-b549-74b73558f0e2"
      },
      "outputs": [
        {
          "name": "stdout",
          "output_type": "stream",
          "text": [
            "8\n",
            "2000.0\n",
            "250.0\n",
            "5000.0\n"
          ]
        }
      ],
      "source": [
        "print (2**3) #8\n",
        "print (2E3) #2000\n",
        "print (2.5E2) #250\n",
        "print(.5E4)#5000"
      ]
    },
    {
      "cell_type": "code",
      "execution_count": null,
      "metadata": {
        "colab": {
          "base_uri": "https://localhost:8080/"
        },
        "id": "i8m04JlxAoDt",
        "outputId": "75642970-18e3-4883-df2a-f67aaeb239f5"
      },
      "outputs": [
        {
          "name": "stdout",
          "output_type": "stream",
          "text": [
            "8\n"
          ]
        }
      ],
      "source": [
        "x=3\n",
        "y=5\n",
        "z= x+y\n",
        "print(z)"
      ]
    },
    {
      "cell_type": "code",
      "execution_count": null,
      "metadata": {
        "colab": {
          "base_uri": "https://localhost:8080/"
        },
        "id": "QUKCLck8AyOj",
        "outputId": "b017c06c-8286-452b-e93e-bf07b50940d0"
      },
      "outputs": [
        {
          "name": "stdout",
          "output_type": "stream",
          "text": [
            "<class 'str'>\n",
            "Pythoooon\n",
            "P\n",
            "h\n",
            "4\n"
          ]
        }
      ],
      "source": [
        "cad = \"Pythoooon\"\n",
        "print (type(cad))\n",
        "print(cad)\n",
        "print (cad[0])\n",
        "print(cad[3])\n",
        "print(cad.count (\"o\"))"
      ]
    },
    {
      "cell_type": "code",
      "execution_count": null,
      "metadata": {
        "colab": {
          "base_uri": "https://localhost:8080/"
        },
        "id": "tsKus5MpBuCU",
        "outputId": "50f94ce6-5e41-41a2-c1c6-37a0f34e233b"
      },
      "outputs": [
        {
          "name": "stdout",
          "output_type": "stream",
          "text": [
            " Escucha hermano \n",
            "  la canción de la alegría\n",
            "\n",
            "El canto alegre\n",
            "del que espera\n",
            "un nuevo\n",
            "dia\n"
          ]
        }
      ],
      "source": [
        "#Cadenas multilineas\n",
        "cad = \"\"\" Escucha hermano\n",
        "  la canción de la alegría\"\"\"\n",
        "print (cad)\n",
        "cad2= \"\\nEl canto alegre\\ndel que espera\\nun nuevo\\ndia\"\n",
        "print(cad2)"
      ]
    },
    {
      "cell_type": "code",
      "execution_count": null,
      "metadata": {
        "colab": {
          "base_uri": "https://localhost:8080/"
        },
        "id": "LtbVuSetCqit",
        "outputId": "43dbd68a-6f5f-414d-8bdc-1c033587d804"
      },
      "outputs": [
        {
          "name": "stdout",
          "output_type": "stream",
          "text": [
            "1) hola Mundo Python3\n",
            "1) Hola Mundo Python 3\n",
            "python\n",
            "3\n"
          ]
        }
      ],
      "source": [
        "#Concatenación y formateo de cadenas\n",
        "print(\"1) hola \" + \"Mundo \" + \"Python\" + str(3))\n",
        "print (\"1) Hola\",\"Mundo\", \"Python\", 3)\n",
        "\n",
        "\n",
        "lenguaje, version = \"python\", 3 # asignación múltple\n",
        "print (lenguaje)\n",
        "print(version)"
      ]
    },
    {
      "cell_type": "code",
      "execution_count": null,
      "metadata": {
        "colab": {
          "base_uri": "https://localhost:8080/"
        },
        "id": "u2N8XLBAEJwV",
        "outputId": "a7b487c0-43f1-4b1c-e529-cafbe1fdab48"
      },
      "outputs": [
        {
          "name": "stdout",
          "output_type": "stream",
          "text": [
            "3) hola mundo Python 3\n",
            "4) hola mundo Python 3\n",
            "1) hola mundo Python 3\n",
            "6) hola Python mundo\n"
          ]
        }
      ],
      "source": [
        "lenguaje, version = \"Python\", 3\n",
        "print (\"3) hola mundo %s %s\" % (lenguaje, version ))\n",
        "print(\"4) hola mundo {} {}\" .format(lenguaje,version))\n",
        "print ( f\"1) hola mundo {lenguaje} {version}\")\n",
        "print (\"6) hola\", lenguaje, \"mundo\")"
      ]
    },
    {
      "cell_type": "code",
      "execution_count": null,
      "metadata": {
        "colab": {
          "base_uri": "https://localhost:8080/"
        },
        "id": "2bQBKybqFroQ",
        "outputId": "658f05ef-6248-4e73-8691-d5239cce5138"
      },
      "outputs": [
        {
          "name": "stdout",
          "output_type": "stream",
          "text": [
            "('sisisi', 'este amor es tan profundo')\n",
            "********\n",
            "********\n",
            "********\n",
            "********\n",
            "\n"
          ]
        }
      ],
      "source": [
        "cadena = \"si\"\n",
        "print((cadena*3, \"este amor es tan profundo\"))\n",
        "print(((\"*\" * 8) + \"\\n\")*4)"
      ]
    },
    {
      "cell_type": "code",
      "execution_count": null,
      "metadata": {
        "colab": {
          "base_uri": "https://localhost:8080/"
        },
        "id": "5txhb47lY6Df",
        "outputId": "bf01648f-35ad-4c9b-bc20-dc24457c11a9"
      },
      "outputs": [
        {
          "name": "stdout",
          "output_type": "stream",
          "text": [
            "+ ---------- +\n",
            "|          |\n",
            "|          |\n",
            "|          |\n",
            "|          |\n",
            "|          |\n",
            "+ ----------+\n"
          ]
        }
      ],
      "source": [
        "print(\"+\",+10 *\"-\"+\" +\")\n",
        "print((\"|\" + \" \"* 10 + \"|\\n\") *  5, end=\"\")\n",
        "print(\"+\" ,+10 * \"-\" + \"+\")"
      ]
    },
    {
      "cell_type": "code",
      "execution_count": null,
      "metadata": {
        "colab": {
          "base_uri": "https://localhost:8080/"
        },
        "id": "bvWH65O6cH0e",
        "outputId": "e6a69d4c-c8e3-479f-ba79-f03a8f6af42f"
      },
      "outputs": [
        {
          "name": "stdout",
          "output_type": "stream",
          "text": [
            "lenguaje\n",
            "de\n",
            "programación\n",
            "python\n"
          ]
        }
      ],
      "source": [
        "cadena = \"lenguaje de programación python\"\n",
        "print(cadena[0:8])\n",
        "print(cadena[9:11])\n",
        "print(cadena[12:24])\n",
        "print(cadena[25:31])"
      ]
    },
    {
      "cell_type": "code",
      "execution_count": null,
      "metadata": {
        "colab": {
          "base_uri": "https://localhost:8080/"
        },
        "id": "9qqy5eKRda9L",
        "outputId": "4207fede-adaf-4072-b502-c3ce6c56b1cc"
      },
      "outputs": [
        {
          "name": "stdout",
          "output_type": "stream",
          "text": [
            "len\n",
            "python\n",
            "pyth\n",
            "ó\n"
          ]
        }
      ],
      "source": [
        "cadena= \"lenguaje de programación python\"\n",
        "print(cadena[:3])\n",
        "print(cadena[25:])\n",
        "print(cadena[-6:-2])\n",
        "print(cadena[-9])"
      ]
    },
    {
      "cell_type": "code",
      "execution_count": null,
      "metadata": {
        "colab": {
          "base_uri": "https://localhost:8080/"
        },
        "id": "ZxArN054fRA0",
        "outputId": "84b96fd2-4010-4881-f5af-6647ca9705eb"
      },
      "outputs": [
        {
          "name": "stdout",
          "output_type": "stream",
          "text": [
            "35\n",
            "8\n"
          ]
        }
      ],
      "source": [
        "a,b =\"3\",\"5\"\n",
        "print(a+b)\n",
        "print( int(a) +int(b))"
      ]
    },
    {
      "cell_type": "code",
      "execution_count": null,
      "metadata": {
        "colab": {
          "base_uri": "https://localhost:8080/"
        },
        "id": "UQv8eR0nf3iT",
        "outputId": "62df0f7f-f17b-42c1-b442-622d8a21b396"
      },
      "outputs": [
        {
          "name": "stdout",
          "output_type": "stream",
          "text": [
            "MI POBRE ANGELITO\n",
            "2\n",
            "la letra 'o' esta 2 veces en la palabra\frase 'mi pobre angelito'\n"
          ]
        }
      ],
      "source": [
        "cadena_base =\"mi pobre angelito\".lower()\n",
        "cad1= cadena_base.upper()\n",
        "print(cad1)\n",
        "numero_de_o = cadena_base.count (\"o\") # devuelve el numero de veces que se encuentra en una subcadena\n",
        "print(numero_de_o)\n",
        "print(f\"la letra 'o' esta {numero_de_o} veces en la palabra\\frase '{cadena_base}'\")"
      ]
    },
    {
      "cell_type": "code",
      "execution_count": null,
      "metadata": {
        "colab": {
          "base_uri": "https://localhost:8080/"
        },
        "id": "goBgye4PhwQX",
        "outputId": "4078a961-1c22-41ad-da48-741112dabca0"
      },
      "outputs": [
        {
          "name": "stdout",
          "output_type": "stream",
          "text": [
            "Ingrese la marca del auto:BMW\n",
            "La marca del carro ingresada por el usuario es BMW\n"
          ]
        }
      ],
      "source": [
        "marca = input(\"Ingrese la marca del auto:\")\n",
        "print(\"La marca del carro ingresada por el usuario es\", marca)"
      ]
    },
    {
      "cell_type": "code",
      "execution_count": null,
      "metadata": {
        "colab": {
          "base_uri": "https://localhost:8080/"
        },
        "id": "_Bfoa3HliUT7",
        "outputId": "03853b9e-136d-4c7f-96e3-6d6742bccf2f"
      },
      "outputs": [
        {
          "name": "stdout",
          "output_type": "stream",
          "text": [
            "Ingrese precio:50000000\n",
            "El auto marca BMW tiene un precio de $50000000 y con el descuento del 10% le queda en 45000000.0\n",
            "El auto marca BMW tiene un precio de $50,000,000 y con el descuento del 10% le queda en $45,000,000.0\n"
          ]
        }
      ],
      "source": [
        "\n",
        "precio = int(input(\"Ingrese precio:\"))\n",
        "print(f\"El auto marca {marca} tiene un precio de ${precio} y con el descuento del 10% le queda en {precio*0.9}\")\n",
        "\n",
        "print(\"El auto marca {} tiene un precio de ${:,} y con el descuento del 10% le queda en ${:,}\". format(marca,precio,precio*0.9))"
      ]
    },
    {
      "cell_type": "markdown",
      "metadata": {
        "id": "6-q0jCd2luHW"
      },
      "source": [
        "indice de cosecha =(cantidad de frutos recolectados / cantidad de frutoa producidos) * 100%\n"
      ]
    },
    {
      "cell_type": "markdown",
      "metadata": {
        "id": "SyYMO6I-vXpV"
      },
      "source": [
        "1."
      ]
    },
    {
      "cell_type": "code",
      "execution_count": null,
      "metadata": {
        "colab": {
          "base_uri": "https://localhost:8080/"
        },
        "id": "sbCittIYlxIF",
        "outputId": "a9ed34a7-3635-4a14-b755-16424deaff72"
      },
      "outputs": [
        {
          "name": "stdout",
          "output_type": "stream",
          "text": [
            "Ingrese la cantidad de frutos producidos:200\n",
            "Ingrese la cantidad de frutos recolectados:20\n",
            "El indice de cosecha es:  10.00 %\n"
          ]
        }
      ],
      "source": [
        "Frutos_producidos= int(input(\"Ingrese la cantidad de frutos producidos:\"))\n",
        "Frutos_recolectados = int(input(\"Ingrese la cantidad de frutos recolectados:\"))\n",
        "IndiceCosecha =( Frutos_recolectados/ Frutos_producidos)*100\n",
        "print(f\"El indice de cosecha es: {IndiceCosecha: .2f} %\")"
      ]
    },
    {
      "cell_type": "markdown",
      "metadata": {
        "id": "0CuBH5hMvySI"
      },
      "source": [
        "2. Dibujar la P de python que abarce 7 filas y 5 colmnas. Use una sola linea de codigo"
      ]
    },
    {
      "cell_type": "code",
      "execution_count": 2,
      "metadata": {
        "colab": {
          "base_uri": "https://localhost:8080/"
        },
        "id": "isLApmyOv-th",
        "outputId": "588c5a3b-ec5b-4df2-880c-ae0b604b27a3"
      },
      "outputs": [
        {
          "output_type": "stream",
          "name": "stdout",
          "text": [
            "pppppp\n",
            "p     p\n",
            "pppppp\n",
            "p\n",
            "p\n"
          ]
        }
      ],
      "source": [
        "print(\"pppppp\" + \"\\n\" + \"p\" + \"     \" + \"p\" + \"\\n\" + \"pppppp\" + \"\\n\" + \"p\" + \"\\n\" + \"p\"  )"
      ]
    },
    {
      "cell_type": "markdown",
      "metadata": {
        "id": "pXA9UDCjv_eA"
      },
      "source": [
        "3.Un alumno desea saber cual sera su calificacion final en la materia de matematica. Dicha calificacion se compone de los siguientes  porcentajes: 55% del promedio de sus tres calificaciones parciales( se debe leer cada calificacion parcial).  30% de la calificacion del examen final. 15% de la calificacion de un trabajo final."
      ]
    },
    {
      "cell_type": "code",
      "execution_count": null,
      "metadata": {
        "id": "VbVGeLaowfhG",
        "colab": {
          "base_uri": "https://localhost:8080/"
        },
        "outputId": "8eb2ae2e-0ace-4635-b76e-e3f72c76404a"
      },
      "outputs": [
        {
          "output_type": "stream",
          "name": "stdout",
          "text": [
            "ingrese su nota 1:30\n",
            "ingrese su nota 2:50\n",
            "ingrese su nota 3:40\n",
            "ingrese la nota del examen final:48\n",
            "ingrese la nota del trabajo final:39\n",
            "su nota final es: 42.25\n"
          ]
        }
      ],
      "source": [
        "nota1 = int(input(\"ingrese su nota 1:\"))\n",
        "nota2 = int(input(\"ingrese su nota 2:\"))\n",
        "nota3 = int(input(\"ingrese su nota 3:\"))\n",
        "exa_final = int(input(\"ingrese la nota del examen final:\"))\n",
        "trabajo_final = int(input(\"ingrese la nota del trabajo final:\"))\n",
        "resultado = (nota1 + nota2 + nota3 ) / 3 * 0.55 + exa_final * 0.3 + trabajo_final * 0.15\n",
        "print(f\"su nota final es: {resultado}\")\n"
      ]
    },
    {
      "cell_type": "markdown",
      "metadata": {
        "id": "UlpwH9wVwf_h"
      },
      "source": [
        "4.Recibir una frase por parte del usuario y devolver el numero de palabras que se encuentran en la frase"
      ]
    },
    {
      "cell_type": "code",
      "execution_count": null,
      "metadata": {
        "id": "4FRxNSubwqMp",
        "colab": {
          "base_uri": "https://localhost:8080/"
        },
        "outputId": "4f9fe32a-3c89-48c8-eb52-3b6a5e48a643"
      },
      "outputs": [
        {
          "output_type": "stream",
          "name": "stdout",
          "text": [
            "Ingrese una frase:daniel\n",
            "Numero de palabras en la oracion: 1\n"
          ]
        }
      ],
      "source": [
        "#funcion para contar palabras\n",
        "Frase = input(\"Ingrese una frase:\")\n",
        "palabras= Frase.split()\n",
        "numero_de_palabras=len(palabras)\n",
        "print(f\"Numero de palabras en la oracion: {numero_de_palabras}\")"
      ]
    },
    {
      "cell_type": "markdown",
      "metadata": {
        "id": "ErhcDJRmwsF-"
      },
      "source": [
        "5.Recibir una frase y transformarla a mayusucula sostenida e invirtiendo su contenido\n",
        "\n",
        "\n",
        "\n"
      ]
    },
    {
      "cell_type": "code",
      "source": [
        "frase = input(\"ingrese una frase: \")\n",
        "frase_transformada = frase.upper()[::-1]\n",
        "print(f\"frase transformada: {frase_transformada}\")"
      ],
      "metadata": {
        "colab": {
          "base_uri": "https://localhost:8080/"
        },
        "id": "03YZBNfQEcEb",
        "outputId": "dd900d17-e3c0-49de-f476-cb7cf1208d8f"
      },
      "execution_count": 3,
      "outputs": [
        {
          "output_type": "stream",
          "name": "stdout",
          "text": [
            "ingrese una frase: frase\n",
            "frase transformada: ESARF\n"
          ]
        }
      ]
    }
  ],
  "metadata": {
    "colab": {
      "provenance": []
    },
    "kernelspec": {
      "display_name": "Python 3",
      "name": "python3"
    },
    "language_info": {
      "name": "python"
    }
  },
  "nbformat": 4,
  "nbformat_minor": 0
}