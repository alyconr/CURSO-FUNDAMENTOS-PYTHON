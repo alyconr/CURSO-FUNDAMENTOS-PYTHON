{
  "nbformat": 4,
  "nbformat_minor": 0,
  "metadata": {
    "colab": {
      "provenance": []
    },
    "kernelspec": {
      "name": "python3",
      "display_name": "Python 3"
    },
    "language_info": {
      "name": "python"
    }
  },
  "cells": [
    {
      "cell_type": "markdown",
      "source": [
        "1. Realice un programa que calcule el índice de cosecha de un cultivo en función de la cantidad de frutos recolectados y la cantidad de frutos producidos en total."
      ],
      "metadata": {
        "id": "bV6opEBIjM_q"
      }
    },
    {
      "cell_type": "code",
      "source": [
        "cantidad_frutos_producidos = int(input(\"Ingrese el numero de frutos producidos \"))\n",
        "cantidad_frutos_recolectados = int(input(\"Ingrese el numero de frutos recolectados \"))\n",
        "porcentaje = (cantidad_frutos_recolectados / cantidad_frutos_producidos) * 100\n",
        "print(f\"Los fru tos recolectados fueron {porcentaje:.2f}%\")"
      ],
      "metadata": {
        "id": "_20gxlFqjN4a"
      },
      "execution_count": null,
      "outputs": []
    },
    {
      "cell_type": "markdown",
      "source": [
        "Dibujar la P de Python que abarque 7 filas y 5 columnas. Use solo una línea de código"
      ],
      "metadata": {
        "id": "ro1OHX9SjPZU"
      }
    },
    {
      "cell_type": "code",
      "source": [
        "print(\"|||||\\n|   |\\n|   |\\n|||||\\n| \\n| \\n|\")"
      ],
      "metadata": {
        "colab": {
          "base_uri": "https://localhost:8080/"
        },
        "id": "2wJBypnrjXTa",
        "outputId": "d825f6c5-3d39-4d14-e54f-7a395cfce44c"
      },
      "execution_count": 2,
      "outputs": [
        {
          "output_type": "stream",
          "name": "stdout",
          "text": [
            "|||||\n",
            "|   |\n",
            "|   |\n",
            "|||||\n",
            "| \n",
            "| \n",
            "|\n"
          ]
        }
      ]
    },
    {
      "cell_type": "markdown",
      "source": [
        "Un alumno desea saber cuál será su calificación final en la materia de Matemáticas. Dicha calificación se compone de los siguientes porcentajes: 55% del promedio de sus tres calificaciones parciales (se debe leer cada calificación parcial). 30% de la calificación del examen final. 15% de la calificación de un trabajo final."
      ],
      "metadata": {
        "id": "nTm1QLCXj6ts"
      }
    },
    {
      "cell_type": "code",
      "source": [
        "nota1 = float(input(\"Ingrese la primera nota: \"))\n",
        "nota2 = float(input(\"Ingrese la segunda nota: \"))\n",
        "nota3 = float(input(\"Ingrese la tercera nota: \"))\n",
        "examen_final = float(input(\"Ingrese la nota de su examen final: \"))\n",
        "trabajo_final = float(input(\"Ingrese la nota de su trabajo final: \"))\n",
        "\n",
        "promedio_notas = (nota1 + nota2 + nota3) / 3\n",
        "nota_final = (promedio_notas * 0.55) + (examen_final * 0.30) + (trabajo_final * 0.15)\n",
        "print (f\"Su nota final es:  {nota_final:.2f}\")\n",
        "\n",
        "\n",
        "if nota_final >= 3.0:\n",
        "    print(\"¡Felicidades! Aprobaste la materia.\")\n",
        "else:\n",
        "    print(\"Lo siento, perdiste la materia.\")"
      ],
      "metadata": {
        "id": "YCqE4zgfj_yv"
      },
      "execution_count": null,
      "outputs": []
    },
    {
      "cell_type": "markdown",
      "source": [
        "\n",
        "Recibir una frase por parte del usuario y devolver el número de palabras que se encuentran en la frase."
      ],
      "metadata": {
        "id": "a_tVK8SqkDUc"
      }
    },
    {
      "cell_type": "code",
      "source": [
        "#frase.split() → Separa la frase en palabras usando los espacios como separadores.\n",
        "#len(frase.split()) → Cuenta cuántas palabras hay en la lista resultante.\n",
        "frase = input(\"Ingrese una frase \")\n",
        "num_palabras = len(frase.split())\n",
        "print(f\"La frase tiene {num_palabras} palabras.\")"
      ],
      "metadata": {
        "id": "-R1uLeMPkEhc"
      },
      "execution_count": null,
      "outputs": []
    },
    {
      "cell_type": "markdown",
      "source": [
        "5. Recibir una frase y transformarla a mayúscula sostenida e invirtiendo su contenido"
      ],
      "metadata": {
        "id": "UGFcYwZakHBn"
      }
    },
    {
      "cell_type": "code",
      "source": [
        "# [::-1] → Invierte el contenido de la frase.\n",
        "# frase.upper() → Convierte toda la frase a mayúsculas.\n",
        "\n",
        "frase = input(\"Ingrese una frase: \")\n",
        "frase_transformada = frase.upper()[::-1]\n",
        "print(f\"Frase transformada: {frase_transformada}\")"
      ],
      "metadata": {
        "id": "3remVZdukHii"
      },
      "execution_count": null,
      "outputs": []
    }
  ]
}