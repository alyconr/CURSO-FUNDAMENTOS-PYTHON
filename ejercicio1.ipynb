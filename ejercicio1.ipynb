{
 "cells": [
  {
   "cell_type": "code",
   "execution_count": 1,
   "metadata": {},
   "outputs": [
    {
     "name": "stdout",
     "output_type": "stream",
     "text": [
      "El indice de cosecha es: 66.67%\n"
     ]
    }
   ],
   "source": [
    "frutos_recolectados = int(input(\"Ingrese la cantidad de frutos recolectados: \"))\n",
    "frutos_totales = int(input(\"Ingrese la cantidad total de frutos producidos: \"))\n",
    "\n",
    "indice_cosecha = (frutos_recolectados / frutos_totales * 100) if frutos_totales else 0\n",
    "\n",
    "print(f\"El indice de cosecha es: {indice_cosecha:.2f}%\")"
   ]
  }
 ],
 "metadata": {
  "kernelspec": {
   "display_name": "Python 3",
   "language": "python",
   "name": "python3"
  },
  "language_info": {
   "codemirror_mode": {
    "name": "ipython",
    "version": 3
   },
   "file_extension": ".py",
   "mimetype": "text/x-python",
   "name": "python",
   "nbconvert_exporter": "python",
   "pygments_lexer": "ipython3",
   "version": "3.11.4"
  }
 },
 "nbformat": 4,
 "nbformat_minor": 2
}
