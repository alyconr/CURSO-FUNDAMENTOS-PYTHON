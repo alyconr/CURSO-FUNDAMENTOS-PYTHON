{
 "cells": [
  {
   "cell_type": "code",
   "execution_count": null,
   "metadata": {
    "id": "i2JI5IupiUDX"
   },
   "outputs": [],
   "source": []
  },
  {
   "cell_type": "markdown",
   "metadata": {
    "id": "8GuR61XPlMn1"
   },
   "source": [
    "1. Realice un programa que calcule el índice de cosecha de un cultivo en función de la cantidad de frutos recolectados y la cantidad de frutos producidos en total.\n",
    "\n",
    "Fórmula:\n",
    "```\n",
    "Índice de cosecha = (cantidad de frutos recolectados / cantidad de frutos producidos) * 100%\n",
    "```"
   ]
  },
  {
   "cell_type": "code",
   "execution_count": null,
   "metadata": {
    "colab": {
     "base_uri": "https://localhost:8080/"
    },
    "executionInfo": {
     "elapsed": 5236,
     "status": "ok",
     "timestamp": 1740678549719,
     "user": {
      "displayName": "Nataly Muñoz",
      "userId": "15033983733469955376"
     },
     "user_tz": 300
    },
    "id": "LFR7QZyyUc8_",
    "outputId": "96a5e88d-051c-451f-f59e-866796d56d7e"
   },
   "outputs": [
    {
     "name": "stdout",
     "output_type": "stream",
     "text": [
      "Ingrese la cantidad de frutos producidos: 20\n",
      "Ingrese la cantidad de frutos recolectados: 10\n",
      "la cantidad de frutos producidos es 20 y la cantidad de frutos recolectados es 10\n",
      "lo que da un indice de cosecha de: 50.0%\n"
     ]
    }
   ],
   "source": [
    "cantidad_frutos_producidos = int(input(\"Ingrese la cantidad de frutos producidos: \"))\n",
    "cantidad_frutos_recolectados = int(input(\"Ingrese la cantidad de frutos recolectados: \"))\n",
    "indice_cosecha = (cantidad_frutos_recolectados / cantidad_frutos_producidos) *100\n",
    "print (\"la cantidad de frutos producidos es {:,} y la cantidad de frutos recolectados es {:,}\\nlo que da un indice de cosecha de: {}%\".format(cantidad_frutos_producidos,cantidad_frutos_recolectados, indice_cosecha))"
   ]
  },
  {
   "cell_type": "markdown",
   "metadata": {
    "id": "82sLwN7Wh0F-"
   },
   "source": []
  },
  {
   "cell_type": "markdown",
   "metadata": {
    "id": "PDireFgplgm5"
   },
   "source": [
    "2. Dibujar la P de Python que abarque 7 filas y 5 columnas.  Use solo una línea de código"
   ]
  },
  {
   "cell_type": "code",
   "execution_count": 51,
   "metadata": {
    "colab": {
     "base_uri": "https://localhost:8080/"
    },
    "executionInfo": {
     "elapsed": 11,
     "status": "ok",
     "timestamp": 1740680226813,
     "user": {
      "displayName": "Nataly Muñoz",
      "userId": "15033983733469955376"
     },
     "user_tz": 300
    },
    "id": "S2FjVDvOh4u9",
    "outputId": "871c79c3-0c29-4186-a1f6-7cee4537f409"
   },
   "outputs": [
    {
     "name": "stdout",
     "output_type": "stream",
     "text": [
      "*****\n",
      "*   *\n",
      "*   *\n",
      "*****\n",
      "*   \n",
      "*   \n",
      "*   \n",
      "\n"
     ]
    }
   ],
   "source": [
    "print(\"*\"*5 + \"\\n\" + (\"*\" + \" \"*3 + \"*\\n\")*2 + \"*\"*5 + \"\\n\" + (\"*\" + \" \"*3 + \"\\n\")*3)"
   ]
  },
  {
   "cell_type": "markdown",
   "metadata": {
    "id": "1mTqTisVtBnn"
   },
   "source": [
    "3. Un alumno desea saber cuál será su calificación final en la materia de Matemáticas. Dicha calificación se compone de los siguientes porcentajes: 55% del promedio de sus tres calificaciones parciales (se debe leer cada calificación parcial). 30% de la calificación del examen final. 15% de la calificación de un trabajo final.\n"
   ]
  },
  {
   "cell_type": "code",
   "execution_count": 59,
   "metadata": {
    "colab": {
     "base_uri": "https://localhost:8080/"
    },
    "executionInfo": {
     "elapsed": 35038,
     "status": "ok",
     "timestamp": 1740682830470,
     "user": {
      "displayName": "Nataly Muñoz",
      "userId": "15033983733469955376"
     },
     "user_tz": 300
    },
    "id": "hPqzwzEYtEIp",
    "outputId": "4a66788c-9cbc-4c61-80ba-932b170ab6c1"
   },
   "outputs": [
    {
     "name": "stdout",
     "output_type": "stream",
     "text": [
      "Ingrese su primera calificacion parcial: 1.5\n",
      "Ingrese su segunda calificacion parcial: 1\n",
      "Ingrese su tercera calificacion parcial: 2\n",
      "Ingrese la calificacion del exámen final: 8.6\n",
      "Ingrese la calificacion de su trabajo final: 3.6\n",
      "La calificación final de la materia de Matemáticas es:  3.945\n"
     ]
    }
   ],
   "source": [
    "par_1 =float(input(\"Ingrese su primera calificacion parcial: \"))\n",
    "\n",
    "par_2 =float(input(\"Ingrese su segunda calificacion parcial: \"))\n",
    "\n",
    "par_3 =float(input(\"Ingrese su tercera calificacion parcial: \"))\n",
    "promedio_par = ((par_1+par_2+par_3)/3)\n",
    "\n",
    "ex_final=float(input(\"Ingrese la calificacion del exámen final: \"))\n",
    "trabajo_final=float(input(\"Ingrese la calificacion de su trabajo final: \"))\n",
    "\n",
    "calificacion_final = (promedio_par*0.55+ex_final*0.30+trabajo_final*0.15)\n",
    "print (f\"La calificación final de la materia de Matemáticas es: \", calificacion_final)"
   ]
  },
  {
   "cell_type": "markdown",
   "metadata": {
    "id": "7mpwOmcAyQBw"
   },
   "source": []
  },
  {
   "cell_type": "markdown",
   "metadata": {
    "id": "SwdpMQrRmXQg"
   },
   "source": [
    "4. Recibir una frase por parte del usuario y devolver el número de palabras que se encuentran en la frase."
   ]
  },
  {
   "cell_type": "code",
   "execution_count": 66,
   "metadata": {
    "colab": {
     "base_uri": "https://localhost:8080/"
    },
    "executionInfo": {
     "elapsed": 5098,
     "status": "ok",
     "timestamp": 1740683656412,
     "user": {
      "displayName": "Nataly Muñoz",
      "userId": "15033983733469955376"
     },
     "user_tz": 300
    },
    "id": "khyzh4__yQ7Q",
    "outputId": "ae30825e-f8ff-4034-e358-ef704cdcaf3a"
   },
   "outputs": [
    {
     "name": "stdout",
     "output_type": "stream",
     "text": [
      "Ingrese una frase: hola como estas\n",
      "la cantidad de palabras que tiene la frase ['hola', 'como', 'estas'], es:3\n"
     ]
    }
   ],
   "source": [
    "frase = str (input(\"Ingrese una frase: \")).split(\" \")\n",
    "num_palabras = len(frase)\n",
    "print(f\"la cantidad de palabras que tiene la frase {frase}, es:{num_palabras}\")"
   ]
  },
  {
   "cell_type": "markdown",
   "metadata": {
    "id": "bob3nNrx1ft8"
   },
   "source": []
  },
  {
   "cell_type": "markdown",
   "metadata": {
    "id": "04Glz6JXmsoH"
   },
   "source": [
    "5. Recibir una frase y transformarla a mayúscula sostenida e invirtiendo su contenido"
   ]
  },
  {
   "cell_type": "code",
   "execution_count": 116,
   "metadata": {
    "colab": {
     "base_uri": "https://localhost:8080/"
    },
    "executionInfo": {
     "elapsed": 5549,
     "status": "ok",
     "timestamp": 1740686112174,
     "user": {
      "displayName": "Nataly Muñoz",
      "userId": "15033983733469955376"
     },
     "user_tz": 300
    },
    "id": "QTywGt1p1gwX",
    "outputId": "d552eb29-0412-4887-bc61-588b42834127"
   },
   "outputs": [
    {
     "name": "stdout",
     "output_type": "stream",
     "text": [
      "Ingrese una frase: Hola soy Nat\n",
      "TAN YOS ALOH\n"
     ]
    }
   ],
   "source": [
    "frase1 = str (input(\"Ingrese una frase: \"))\n",
    "frase1_mayus = frase1.upper()\n",
    "print(frase1_mayus[::-1])#usar slicing negativo para devolver la frase"
   ]
  }
 ],
 "metadata": {
  "colab": {
   "authorship_tag": "ABX9TyPBTXluRLZMo1UK1h4l2oTl",
   "provenance": []
  },
  "kernelspec": {
   "display_name": "Python 3",
   "name": "python3"
  },
  "language_info": {
   "name": "python"
  }
 },
 "nbformat": 4,
 "nbformat_minor": 0
}
