{
  "nbformat": 4,
  "nbformat_minor": 0,
  "metadata": {
    "colab": {
      "provenance": []
    },
    "kernelspec": {
      "name": "python3",
      "display_name": "Python 3"
    },
    "language_info": {
      "name": "python"
    }
  },
  "cells": [
    {
      "cell_type": "markdown",
      "source": [
        "**apropiatorio**\n"
      ],
      "metadata": {
        "id": "gYpbK1-l5RLU"
      }
    },
    {
      "cell_type": "markdown",
      "source": [
        "**1.\n",
        "Realice un programa que calcule el índice de cosecha de un cultivo en función de la cantidad de frutos recolectados y la cantidad de frutos producidos en total.**"
      ],
      "metadata": {
        "id": "I6UW1M4n8dSR"
      }
    },
    {
      "cell_type": "code",
      "source": [
        "frutosProducidos = 67\n",
        "frutosRecolectados = 66\n",
        "\n",
        "indicedecosecha = (frutosProducidos/frutosRecolectados*100)\n",
        "print(indicedecosecha)"
      ],
      "metadata": {
        "colab": {
          "base_uri": "https://localhost:8080/"
        },
        "id": "vHncSzsx8j_J",
        "outputId": "a8e2af11-6b53-474c-ee76-7f569341dea8"
      },
      "execution_count": null,
      "outputs": [
        {
          "output_type": "stream",
          "name": "stdout",
          "text": [
            "98.50746268656717\n"
          ]
        }
      ]
    },
    {
      "cell_type": "markdown",
      "source": [
        "**2.Dibujar la P de Python que abarque 7 filas y 5 columnas. Use solo una línea de código**"
      ],
      "metadata": {
        "id": "z3gbLLWL4a_A"
      }
    },
    {
      "cell_type": "code",
      "source": [
        "print(\"+\" + 10 * \"-\" + \"+\")\n",
        "print((\"|\" + \" \" * 10 + \"|\\n\") * 4, end=\"\")\n",
        "print(\"+\" + 10 * \"-\" + \"+\")\n",
        "print((\"\" + \" \" *  0 + \"|\\n\") * 5, end=\"\")"
      ],
      "metadata": {
        "colab": {
          "base_uri": "https://localhost:8080/"
        },
        "id": "6gFYCLflAEN2",
        "outputId": "e2855041-263f-4b57-e471-0ec58a167a7e"
      },
      "execution_count": null,
      "outputs": [
        {
          "output_type": "stream",
          "name": "stdout",
          "text": [
            "+----------+\n",
            "|          |\n",
            "|          |\n",
            "|          |\n",
            "|          |\n",
            "+----------+\n",
            "|\n",
            "|\n",
            "|\n",
            "|\n",
            "|\n"
          ]
        }
      ]
    },
    {
      "cell_type": "markdown",
      "source": [
        "**3.Un alumno desea saber cuál será su calificación final en la materia de Matemáticas. Dicha calificación se compone de los siguientes porcentajes: 55% del promedio de sus tres calificaciones parciales (se debe leer cada calificación parcial). 30% de la calificación del examen final. 15% de la calificación de un trabajo final.**"
      ],
      "metadata": {
        "id": "Fut3C-P2CgxE"
      }
    },
    {
      "cell_type": "code",
      "source": [
        "materia =  input (\" Ingrese la materia : \")\n",
        "print(\"La  materia ingresada por el estudiante es\", materia)"
      ],
      "metadata": {
        "colab": {
          "base_uri": "https://localhost:8080/"
        },
        "id": "zo6W6MJLDpoo",
        "outputId": "42a3b2a0-62bc-4b7a-9654-c02543bc0e2e"
      },
      "execution_count": 86,
      "outputs": [
        {
          "output_type": "stream",
          "name": "stdout",
          "text": [
            " Ingrese la materia : Matematicas\n",
            "La  materia ingresada por el estudiante es Matematicas\n"
          ]
        }
      ]
    },
    {
      "cell_type": "code",
      "source": [
        "parcial1 = float(input(\"Ingresa la calificación del primer parcial (20% de la nota final): \"))\n",
        "parcial2 = float(input(\"Ingresa la calificación del segundo parcial (15% de la nota final): \"))\n",
        "parcial3 = float(input(\"Ingresa la calificación del tercer parcial (20% de la nota final): \"))\n",
        "calificacion_parcial1 = parcial1 * 0.20  # 20% de la nota final\n",
        "calificacion_parcial2 = parcial2 * 0.15  # 15% de la nota final\n",
        "calificacion_parcial3 = parcial3 * 0.20  # 20% de la nota final\n",
        "\n",
        "examen_final = float(input(\"Ingresa la calificación del examen final (30% de la nota final): \"))\n",
        "calificacion_del_examen_final = examen_final * 0.30\n",
        "\n",
        "trabajo_final = float(input(\"Ingresa la calificación del trabajo final (15% de la nota final): \"))\n",
        "calificacion_del_trabajo_final = trabajo_final * 0.15\n",
        "\n",
        "calificacion_final = calificacion_parcial1 + calificacion_parcial2 + calificacion_parcial3 + calificacion_del_examen_final + calificacion_del_trabajo_final\n",
        "\n",
        "print(f\"\\nLa calificación final en Matemáticas es: {calificacion_final:.2f}\")\n",
        "\n",
        "if calificacion_final >= 6.0:\n",
        "    print(\"¡Felicidades! Has aprobado la materia.\")\n",
        "else:\n",
        "    print(\"Lo siento, has reprobado la materia.\")"
      ],
      "metadata": {
        "colab": {
          "base_uri": "https://localhost:8080/"
        },
        "id": "Er_qMbXSX6nl",
        "outputId": "c1e0c8a9-edc9-48e0-a6cd-8e30124e0d19"
      },
      "execution_count": 121,
      "outputs": [
        {
          "output_type": "stream",
          "name": "stdout",
          "text": [
            "Ingresa la calificación del primer parcial (20% de la nota final): 55\n",
            "Ingresa la calificación del segundo parcial (15% de la nota final): 65\n",
            "Ingresa la calificación del tercer parcial (20% de la nota final): 70\n",
            "Ingresa la calificación del examen final (30% de la nota final): 65\n",
            "Ingresa la calificación del trabajo final (15% de la nota final): 80\n",
            "\n",
            "La calificación final en Matemáticas es: 66.25\n",
            "¡Felicidades! Has aprobado la materia.\n"
          ]
        }
      ]
    },
    {
      "cell_type": "markdown",
      "source": [
        "**4.Recibir una frase por parte del usuario y devolver el número de palabras que se encuentran en la frase.**"
      ],
      "metadata": {
        "id": "e9yH01Debywt"
      }
    },
    {
      "cell_type": "code",
      "source": [
        "cadena = \"Evidencia de lenguaje de python\"\n",
        "\n",
        "print(cadena[:9])\n",
        "print(cadena[10:12])\n",
        "print(cadena[13:21])\n",
        "print (cadena[22:24])\n",
        "print (cadena[25:31])"
      ],
      "metadata": {
        "colab": {
          "base_uri": "https://localhost:8080/"
        },
        "id": "FHwz8UnPb6G7",
        "outputId": "b0891c20-40a4-4484-bc11-f224ea4a061a"
      },
      "execution_count": 2,
      "outputs": [
        {
          "output_type": "stream",
          "name": "stdout",
          "text": [
            "4\n"
          ]
        }
      ]
    },
    {
      "cell_type": "markdown",
      "source": [
        "**5.Recibir una frase y transformarla a mayúscula sostenida e invirtiendo su contenido**"
      ],
      "metadata": {
        "id": "79FnwJU0dzcR"
      }
    },
    {
      "cell_type": "code",
      "source": [
        "cadena_base = \"CAMILO EL MAS CAPO\".lower()\n",
        "cad1 = cadena_base.lower()\n",
        "\n",
        "print(cad1)\n",
        "\n",
        "cadena_base = \"camilo es el mejor\".lower()\n",
        "cad1 = cadena_base.upper()\n",
        "\n",
        "print(cad1)"
      ],
      "metadata": {
        "colab": {
          "base_uri": "https://localhost:8080/"
        },
        "id": "RgGHuadleAvd",
        "outputId": "330f8af3-2c43-4a89-b51a-a8a9b252a197"
      },
      "execution_count": 141,
      "outputs": [
        {
          "output_type": "stream",
          "name": "stdout",
          "text": [
            "camilo el mas capo\n",
            "CAMILO ES EL MEJOR\n"
          ]
        }
      ]
    }
  ]
}