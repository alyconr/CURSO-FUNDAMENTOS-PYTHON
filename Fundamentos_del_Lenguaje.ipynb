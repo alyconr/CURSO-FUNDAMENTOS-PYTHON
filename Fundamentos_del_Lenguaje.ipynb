{
  "nbformat": 4,
  "nbformat_minor": 0,
  "metadata": {
    "colab": {
      "provenance": []
    },
    "kernelspec": {
      "name": "python3",
      "display_name": "Python 3"
    },
    "language_info": {
      "name": "python"
    }
  },
  "cells": [
    {
      "cell_type": "markdown",
      "source": [
        "# Apropiación\n",
        "1. Realice un programa que calcule el índice de cosecha de un cultivo en función de la cantidad de frutos recolectados y la cantidad de frutos producidos en total.\n",
        "\n",
        "Fórmula:\n",
        "\n",
        "Índice de cosecha = (cantidad de frutos recolectados / cantidad de frutos producidos) * 100%"
      ],
      "metadata": {
        "id": "e18MlyBwdOMW"
      }
    },
    {
      "cell_type": "code",
      "source": [
        "cantidad_frutos_recolectados = int(input(\"Ingrese la cantidad de frutos recolectados: \")) #int es para establecer el tipo, mientras que el input para permitirle al usuario ingresar un dato\n",
        "cantidad_frutos_producidos = int(input(\"Ingrese la cantidad de frutos producidos: \"))\n",
        "\n",
        "indice_cosecha = (cantidad_frutos_recolectados / cantidad_frutos_producidos) * 100\n",
        "print(f\"El índice de cosecha de la cantidad de frutos recolectados en función con la cantidad de producidos es de {indice_cosecha: .2f}%\") #el comando .2f sirve para establecer el numero de decimales que se necesite"
      ],
      "metadata": {
        "colab": {
          "base_uri": "https://localhost:8080/"
        },
        "id": "7FMD8UrwdTpQ",
        "outputId": "60c39be7-4906-439c-c9f9-ae35aa237ad5"
      },
      "execution_count": 13,
      "outputs": [
        {
          "output_type": "stream",
          "name": "stdout",
          "text": [
            "Ingrese la cantidad de frutos recolectados:45\n",
            "Ingrese la cantidad de frutos producidos:123\n",
            "El índice de cosecha de la cantidad de frutos recolectados en función con la cantidad de producidos es de  36.59%\n"
          ]
        }
      ]
    },
    {
      "cell_type": "markdown",
      "source": [
        "2. Dibujar la P de Python que abarque 7 filas y 5 columnas. Use solo una línea de código"
      ],
      "metadata": {
        "id": "fCFW-CRFivWN"
      }
    },
    {
      "cell_type": "code",
      "source": [
        "print(((\"[]\")*5) + (\"\\n\"+ (\"[]\") + (\" \")*6 + (\"[]\"))*2 + \"\\n\" + (\"[]\")*5 + ((\"\\n\") + (\"[]\"))*3)\n"
      ],
      "metadata": {
        "colab": {
          "base_uri": "https://localhost:8080/"
        },
        "id": "P2Lt6EEbixuM",
        "outputId": "8fd3343c-2612-46cd-d774-2485b9077739"
      },
      "execution_count": 33,
      "outputs": [
        {
          "output_type": "stream",
          "name": "stdout",
          "text": [
            "[][][][][]\n",
            "[]      []\n",
            "[]      []\n",
            "[][][][][]\n",
            "[]\n",
            "[]\n",
            "[]\n"
          ]
        }
      ]
    },
    {
      "cell_type": "markdown",
      "source": [
        "3. Un alumno desea saber cuál será su calificación final en la materia de Matemáticas. Dicha calificación se compone de los siguientes porcentajes: 55% del promedio de sus tres calificaciones parciales (se debe leer cada calificación parcial). 30% de la calificación del examen final. 15% de la calificación de un trabajo final."
      ],
      "metadata": {
        "id": "ULeS4BFlmIi3"
      }
    },
    {
      "cell_type": "code",
      "source": [
        "calif_parcial1 = int(input(\"Ingrese la primera calificación de sus parciales: \"))\n",
        "calif_parcial2 = int(input(\"Ingrese la segunda calificación de sus parciales: \"))\n",
        "calif_parcial3 = int(input(\"Ingrese la tercera calificación de sus parciales: \"))\n",
        "calif_examen = int(input(\"Ingrese la calificación de su examen final: \"))\n",
        "calif_trabajo_final = int(input(\"Ingrese la calificación de su trabajo final: \"))\n",
        "\n",
        "prom_parciales = (calif_parcial1 + calif_parcial2 + calif_parcial3) / 3\n",
        "calif_final = (prom_parciales * 0.55) + (calif_examen * 0.3) + (calif_trabajo_final * 0.15) #los * junto al 0.55, 0.3, 0.15 son\n",
        "print(f\"La calificación final de la materia de matemáticas es {calif_final:.1f}\")"
      ],
      "metadata": {
        "colab": {
          "base_uri": "https://localhost:8080/"
        },
        "id": "NWIjHh80mKd1",
        "outputId": "f75a4df2-4c70-424f-85da-cccd39a32c1c"
      },
      "execution_count": 40,
      "outputs": [
        {
          "output_type": "stream",
          "name": "stdout",
          "text": [
            "Ingrese la primera calificación de sus parciales:45\n",
            "Ingrese la segunda calificación de sus parciales:45\n",
            "Ingrese la tercera calificación de sus parciales:12\n",
            "Ingrese la calificación de su examen final:43\n",
            "Ingrese la calificación de su trabajo final:34\n",
            "La calificación final de la materia de matemáticas es 36.7\n"
          ]
        }
      ]
    },
    {
      "cell_type": "markdown",
      "source": [
        "4. Recibir una frase por parte del usuario y devolver el número de palabras que se encuentran en la frase."
      ],
      "metadata": {
        "id": "xHvdksgwrp9-"
      }
    },
    {
      "cell_type": "code",
      "source": [
        "frase = input(\"Ingrese su texto: \")\n",
        "palabras = frase.split()\n",
        "numero_palabras = len(palabras)\n",
        "print(f\"Su frase contiene {numero_palabras} palabras\")"
      ],
      "metadata": {
        "colab": {
          "base_uri": "https://localhost:8080/"
        },
        "id": "q6QqlyJzrq5z",
        "outputId": "b4e13bb0-c87c-4554-bc9a-eba13092764b"
      },
      "execution_count": 46,
      "outputs": [
        {
          "output_type": "stream",
          "name": "stdout",
          "text": [
            "Ingrese su texto: Hola brooo como estas, espero que bien\n",
            "Su frase contiene 7 palabras\n"
          ]
        }
      ]
    },
    {
      "cell_type": "markdown",
      "source": [
        "5. Recibir una frase y transformarla a mayúscula sostenida e invirtiendo su contenido"
      ],
      "metadata": {
        "id": "BLFFTQrptrXu"
      }
    },
    {
      "cell_type": "code",
      "source": [
        "frase = input(\"Ingrese su texto: \")\n",
        "frase_cambiada = frase.upper()[::-1]\n",
        "print(f\"La frase transformada quedaría: {frase_cambiada}\")"
      ],
      "metadata": {
        "colab": {
          "base_uri": "https://localhost:8080/"
        },
        "id": "wePxh2Y2tsSj",
        "outputId": "c500f3bc-4a00-479b-a3ed-d5b9cf351444"
      },
      "execution_count": 47,
      "outputs": [
        {
          "output_type": "stream",
          "name": "stdout",
          "text": [
            "Ingrese su texto: Hola\n",
            "La frase transformada quedaría: ALOH\n"
          ]
        }
      ]
    }
  ]
}