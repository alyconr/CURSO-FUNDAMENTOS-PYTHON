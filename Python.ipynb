{
  "nbformat": 4,
  "nbformat_minor": 0,
  "metadata": {
    "colab": {
      "provenance": [],
      "toc_visible": true
    },
    "kernelspec": {
      "name": "python3",
      "display_name": "Python 3"
    },
    "language_info": {
      "name": "python"
    }
  },
  "cells": [
    {
      "cell_type": "markdown",
      "source": [
        "calcule el índice de cosecha de un cultivo en función de la cantidad de frutos recolectados y la cantidad de frutos producidos en total."
      ],
      "metadata": {
        "id": "uRvXGpw61eTo"
      }
    },
    {
      "cell_type": "code",
      "source": [
        "frutosProducidos = 80\n",
        "frutosRecolectados = 9\n",
        "\n",
        "indicedecosecha = (frutosProducidos/frutosRecolectados*120)\n",
        "print(indicedecosecha)"
      ],
      "metadata": {
        "colab": {
          "base_uri": "https://localhost:8080/"
        },
        "id": "GJBz5tDc1kWw",
        "outputId": "20b32355-b2de-4910-fabe-f14741411384"
      },
      "execution_count": 6,
      "outputs": [
        {
          "output_type": "stream",
          "name": "stdout",
          "text": [
            "1066.6666666666667\n"
          ]
        }
      ]
    },
    {
      "cell_type": "code",
      "source": [],
      "metadata": {
        "id": "GH_E6gB6_XIp"
      },
      "execution_count": null,
      "outputs": []
    },
    {
      "cell_type": "markdown",
      "source": [
        "Dibujar la P de Python que abarque 7 filas y 5 columnas."
      ],
      "metadata": {
        "id": "JjCFYWT-110A"
      }
    },
    {
      "cell_type": "code",
      "source": [
        "print(\"|||||\\n|   |\\n|   |\\n|||||\\n| \\n| \\n|\")"
      ],
      "metadata": {
        "colab": {
          "base_uri": "https://localhost:8080/"
        },
        "id": "mWFXpWPxHLXL",
        "outputId": "777f0db1-44b5-4a27-badd-122ca56ceb55"
      },
      "execution_count": 14,
      "outputs": [
        {
          "output_type": "stream",
          "name": "stdout",
          "text": [
            "|||||\n",
            "|   |\n",
            "|   |\n",
            "|||||\n",
            "| \n",
            "| \n",
            "|\n"
          ]
        }
      ]
    },
    {
      "cell_type": "code",
      "source": [
        ""
      ],
      "metadata": {
        "id": "rrDqMf_H16Po"
      },
      "execution_count": 13,
      "outputs": []
    },
    {
      "cell_type": "markdown",
      "source": [
        "Un alumno desea saber cuál será su calificación final en la materia de Matemáticas. Dicha calificación se compone de los siguientes porcentajes: 55% del promedio de sus tres calificaciones parciales (se debe leer cada calificación parcial). 30% de la calificación del examen final. 15% de la calificación de un trabajo final."
      ],
      "metadata": {
        "id": "Hq4gYFw02GxJ"
      }
    },
    {
      "cell_type": "code",
      "source": [
        "nota1 =int(input(\"ingrese la primera nota\"))\n",
        "nota2 =int(input(\"ingrese la segunda nota\"))\n",
        "nota3 =int(input(\"ingrese la tercera nota\"))\n",
        "\n",
        "calificacionFinal = int(input(\"ingrese su nota final\"))\n",
        "trabajoFinal = int(input(\"ingrese su calificacion del trabajo final\"))\n",
        "\n",
        "promedio_notas = (nota1 + nota2 + nota3) / 3\n",
        "nota_final = (promedio_notas * 0.55) + (calificacionFinal * 0.30) + (trabajoFinal * 0.15)\n",
        "print (f\"Su nota final es:  {nota_final:.2f}\")"
      ],
      "metadata": {
        "colab": {
          "base_uri": "https://localhost:8080/"
        },
        "id": "hbj_rpYm2Qap",
        "outputId": "39662f8e-b106-4a6e-f92c-a6a2db25575e"
      },
      "execution_count": 8,
      "outputs": [
        {
          "output_type": "stream",
          "name": "stdout",
          "text": [
            "ingrese la primera nota45\n",
            "ingrese la segunda nota30\n",
            "ingrese la tercera nota50\n",
            "ingrese su nota final41\n",
            "ingrese su calificacion del trabajo final50\n",
            "Su nota final es:  42.72\n"
          ]
        }
      ]
    },
    {
      "cell_type": "markdown",
      "source": [
        "Recibir una frase por parte del usuario y devolver el número de palabras que se encuentran en la frase.\n",
        "Recibir una frase y transformarla a mayúscula sostenida e invirtiendo su contenido"
      ],
      "metadata": {
        "id": "H8YqI1bE4Znq"
      }
    },
    {
      "cell_type": "code",
      "source": [
        "cad = \"mi mama me ama\"\n",
        "num_x = cad.count (\"a\")\n",
        "print(num_x)"
      ],
      "metadata": {
        "colab": {
          "base_uri": "https://localhost:8080/"
        },
        "id": "Ided-WkH4aiB",
        "outputId": "af5c3d32-574a-4d21-f457-abf6963815b0"
      },
      "execution_count": 12,
      "outputs": [
        {
          "output_type": "stream",
          "name": "stdout",
          "text": [
            "4\n"
          ]
        }
      ]
    },
    {
      "cell_type": "markdown",
      "source": [
        "Recibir una frase y transformarla a mayúscula sostenida e invirtiendo su contenido"
      ],
      "metadata": {
        "id": "c2u-YEZy5eOx"
      }
    },
    {
      "cell_type": "code",
      "source": [
        "cad = \"my cat's name is coco\".lower()\n",
        "cad1 = cad.upper()\n",
        "\n",
        "print (cad1)\n",
        "cadInvertida = cad1[::-1]\n",
        "\n",
        "print(cadInvertida)"
      ],
      "metadata": {
        "colab": {
          "base_uri": "https://localhost:8080/"
        },
        "id": "T2GB4dkA5fK6",
        "outputId": "afa96017-ec45-4bee-c315-f3d86b94b35f"
      },
      "execution_count": 13,
      "outputs": [
        {
          "output_type": "stream",
          "name": "stdout",
          "text": [
            "MY CAT'S NAME IS COCO\n",
            "OCOC SI EMAN S'TAC YM\n"
          ]
        }
      ]
    }
  ]
}