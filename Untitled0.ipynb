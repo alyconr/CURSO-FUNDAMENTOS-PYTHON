{
  "nbformat": 4,
  "nbformat_minor": 0,
  "metadata": {
    "colab": {
      "provenance": []
    },
    "kernelspec": {
      "name": "python3",
      "display_name": "Python 3"
    },
    "language_info": {
      "name": "python"
    }
  },
  "cells": [
    {
      "cell_type": "code",
      "execution_count": null,
      "metadata": {
        "colab": {
          "base_uri": "https://localhost:8080/",
          "height": 106
        },
        "id": "Hs2lS0d91UKj",
        "outputId": "6a7ba388-94a3-4a58-bca0-46aaca5435c5"
      },
      "outputs": [
        {
          "output_type": "error",
          "ename": "SyntaxError",
          "evalue": "invalid syntax (<ipython-input-1-629dfceb5911>, line 1)",
          "traceback": [
            "\u001b[0;36m  File \u001b[0;32m\"<ipython-input-1-629dfceb5911>\"\u001b[0;36m, line \u001b[0;32m1\u001b[0m\n\u001b[0;31m    Snake case  Precio_Total\u001b[0m\n\u001b[0m          ^\u001b[0m\n\u001b[0;31mSyntaxError\u001b[0m\u001b[0;31m:\u001b[0m invalid syntax\n"
          ]
        }
      ],
      "source": [
        "Snake case"
      ]
    },
    {
      "cell_type": "markdown",
      "source": [
        "Precio_Total = precio_total"
      ],
      "metadata": {
        "id": "MDUXtVwJ15ER"
      }
    },
    {
      "cell_type": "code",
      "source": [
        " print(5/2)"
      ],
      "metadata": {
        "colab": {
          "base_uri": "https://localhost:8080/"
        },
        "id": "7hCEAbs21pPT",
        "outputId": "79300b03-a74e-42ad-ba99-e7e0282302e1"
      },
      "execution_count": null,
      "outputs": [
        {
          "output_type": "stream",
          "name": "stdout",
          "text": [
            "2.5\n"
          ]
        }
      ]
    },
    {
      "cell_type": "code",
      "source": [
        "print(5%2) , print(5%2), print(5**2)"
      ],
      "metadata": {
        "colab": {
          "base_uri": "https://localhost:8080/"
        },
        "id": "Tlc8vf0H2Opi",
        "outputId": "a429fb94-7574-4f26-8425-2b4b285b06d7"
      },
      "execution_count": null,
      "outputs": [
        {
          "output_type": "stream",
          "name": "stdout",
          "text": [
            "1\n",
            "1\n",
            "25\n"
          ]
        },
        {
          "output_type": "execute_result",
          "data": {
            "text/plain": [
              "(None, None, None)"
            ]
          },
          "metadata": {},
          "execution_count": 11
        }
      ]
    },
    {
      "cell_type": "code",
      "source": [
        "x = 1_250_000 + 3_240_000\n",
        "y = 1250000 + 3240000\n",
        "y + x"
      ],
      "metadata": {
        "colab": {
          "base_uri": "https://localhost:8080/"
        },
        "id": "dWsL-f0f2UU6",
        "outputId": "0d28362a-37b7-483e-a9b9-230d78fafe2a"
      },
      "execution_count": null,
      "outputs": [
        {
          "output_type": "execute_result",
          "data": {
            "text/plain": [
              "8980000"
            ]
          },
          "metadata": {},
          "execution_count": 15
        }
      ]
    },
    {
      "cell_type": "code",
      "source": [
        "print (0o12)\n",
        "print (0x12)\n",
        "print (hex(0o174))\n",
        "print (bin(5))\n",
        "print (oct(0xA21))"
      ],
      "metadata": {
        "colab": {
          "base_uri": "https://localhost:8080/"
        },
        "id": "PakYEsB43R3C",
        "outputId": "cb45b688-3ab8-46b8-9b43-1cdce6a24e06"
      },
      "execution_count": null,
      "outputs": [
        {
          "output_type": "stream",
          "name": "stdout",
          "text": [
            "10\n",
            "18\n",
            "0x7c\n",
            "0b101\n",
            "0o5041\n"
          ]
        }
      ]
    },
    {
      "cell_type": "markdown",
      "source": [
        "operadores logicos a nivel de bits\n",
        "\n",
        "and &\n",
        "\n",
        "or|\n",
        "\n"
      ],
      "metadata": {
        "id": "Nc2TjFxX4M91"
      }
    },
    {
      "cell_type": "code",
      "source": [
        "print(2&3)  # 10 & 11 - 10 - 2\n",
        "print(2)"
      ],
      "metadata": {
        "colab": {
          "base_uri": "https://localhost:8080/"
        },
        "id": "RYwq4W8U3FLa",
        "outputId": "cee380ed-e6ed-447b-d9d4-70d083a71eb7"
      },
      "execution_count": null,
      "outputs": [
        {
          "output_type": "stream",
          "name": "stdout",
          "text": [
            "2\n"
          ]
        }
      ]
    },
    {
      "cell_type": "code",
      "source": [
        "print(1 & 3)  # 1 & 101 - 100 -\n",
        "print(21|12)\n",
        "print(5&8)"
      ],
      "metadata": {
        "colab": {
          "base_uri": "https://localhost:8080/"
        },
        "id": "tyYXSBOW5ZKy",
        "outputId": "8349953d-7a5a-4804-a5bd-db4e01c526c9"
      },
      "execution_count": null,
      "outputs": [
        {
          "output_type": "stream",
          "name": "stdout",
          "text": [
            "1\n",
            "29\n"
          ]
        }
      ]
    },
    {
      "cell_type": "code",
      "source": [
        "x = print(bin(1))\n",
        "y = print(bin(3))\n",
        "x = 0b1\n",
        "y = 0b11\n",
        "x & y\n"
      ],
      "metadata": {
        "colab": {
          "base_uri": "https://localhost:8080/"
        },
        "id": "bgxlwbvE6rK7",
        "outputId": "832bf662-1d87-4247-bd7c-2d1f5e09371c"
      },
      "execution_count": null,
      "outputs": [
        {
          "output_type": "stream",
          "name": "stdout",
          "text": [
            "0b1\n",
            "0b11\n"
          ]
        },
        {
          "output_type": "execute_result",
          "data": {
            "text/plain": [
              "1"
            ]
          },
          "metadata": {},
          "execution_count": 42
        }
      ]
    },
    {
      "cell_type": "code",
      "source": [
        "x = print(bin(21))\n",
        "y = print(bin(22))\n",
        "x = 0b10101\n",
        "y = 0b10110\n",
        "x | y\n"
      ],
      "metadata": {
        "colab": {
          "base_uri": "https://localhost:8080/"
        },
        "id": "j4fouo629L3r",
        "outputId": "e6d9c475-320b-4edc-9645-97a15dae8332"
      },
      "execution_count": null,
      "outputs": [
        {
          "output_type": "stream",
          "name": "stdout",
          "text": [
            "0b10101\n",
            "0b10110\n"
          ]
        },
        {
          "output_type": "execute_result",
          "data": {
            "text/plain": [
              "23"
            ]
          },
          "metadata": {},
          "execution_count": 44
        }
      ]
    },
    {
      "cell_type": "code",
      "source": [
        "x = print(bin(5))\n",
        "y = print(bin(8))\n",
        "x = 0b101\n",
        "y = 0b1000\n",
        "x & y"
      ],
      "metadata": {
        "colab": {
          "base_uri": "https://localhost:8080/"
        },
        "id": "fyavhIXa-GDe",
        "outputId": "0c17662f-07a1-4aa8-ad66-3f0056bb0987"
      },
      "execution_count": null,
      "outputs": [
        {
          "output_type": "stream",
          "name": "stdout",
          "text": [
            "0b101\n",
            "0b1000\n"
          ]
        },
        {
          "output_type": "execute_result",
          "data": {
            "text/plain": [
              "0"
            ]
          },
          "metadata": {},
          "execution_count": 56
        }
      ]
    },
    {
      "cell_type": "markdown",
      "source": [
        "numeros flotantes"
      ],
      "metadata": {
        "id": "UU0MmqCj_b5x"
      }
    },
    {
      "cell_type": "code",
      "source": [
        "print(2**3) # 8\n",
        "print(2E3) # 2000\n",
        "print(2.5E2) #250\n",
        "print(.5E4) #5000\n"
      ],
      "metadata": {
        "colab": {
          "base_uri": "https://localhost:8080/"
        },
        "id": "9lBZhHlm-kNj",
        "outputId": "99e8c354-6334-4cf7-8be7-185a0d61b72b"
      },
      "execution_count": null,
      "outputs": [
        {
          "output_type": "stream",
          "name": "stdout",
          "text": [
            "8\n",
            "2000.0\n",
            "250.0\n",
            "5000.0\n"
          ]
        }
      ]
    },
    {
      "cell_type": "markdown",
      "source": [
        "Tipos de CAdena\n"
      ],
      "metadata": {
        "id": "UtXVm3w4ABM_"
      }
    },
    {
      "cell_type": "code",
      "source": [
        "x = 3\n",
        "y = 5\n",
        "z = x + y\n",
        "print(z)"
      ],
      "metadata": {
        "colab": {
          "base_uri": "https://localhost:8080/"
        },
        "id": "yXimQlgH_G6e",
        "outputId": "1b3b4f9c-fada-44ab-f2e0-660394cb0a35"
      },
      "execution_count": null,
      "outputs": [
        {
          "output_type": "stream",
          "name": "stdout",
          "text": [
            "8\n"
          ]
        }
      ]
    },
    {
      "cell_type": "code",
      "source": [
        "cad = \"Pythoon\"\n",
        "print(type(cad))\n",
        "print(cad)\n",
        "print(cad[0])\n",
        "print(cad[3])\n",
        "\n",
        "print(cad.count(\"o\"))"
      ],
      "metadata": {
        "colab": {
          "base_uri": "https://localhost:8080/"
        },
        "id": "32zZKN2YApKM",
        "outputId": "3b1e1cc6-15f0-4d88-aa4b-24dd345f4c58"
      },
      "execution_count": null,
      "outputs": [
        {
          "output_type": "stream",
          "name": "stdout",
          "text": [
            "<class 'str'>\n",
            "Pythoon\n",
            "P\n",
            "h\n",
            "2\n"
          ]
        }
      ]
    },
    {
      "cell_type": "markdown",
      "source": [
        "cadenas con multiples lineas"
      ],
      "metadata": {
        "id": "Y-wNKqf0Bdim"
      }
    },
    {
      "cell_type": "code",
      "source": [
        "cad =  \"\"\"escucha hermano\n",
        "       la cancion de la alegria\"\"\"\n",
        "print(cad)\n",
        "\n",
        "cad2 =  \"\\nEl canto alegre\\ndel que espera\\nun nuevo\\ndia\"\n",
        "print(cad2)"
      ],
      "metadata": {
        "colab": {
          "base_uri": "https://localhost:8080/"
        },
        "id": "miWxB9oLAtms",
        "outputId": "ad0ae08a-0359-48ef-9be6-d7ecefc80da7"
      },
      "execution_count": null,
      "outputs": [
        {
          "output_type": "stream",
          "name": "stdout",
          "text": [
            "escucha hermano \n",
            "       la cancion de la alegria\n",
            "\n",
            "El canto alegre\n",
            "del que espera\n",
            "un nuevo\n",
            "dia\n"
          ]
        }
      ]
    },
    {
      "cell_type": "markdown",
      "source": [
        "concatenacion y formateo de cadenas"
      ],
      "metadata": {
        "id": "aVqxQZs8CjDV"
      }
    },
    {
      "cell_type": "code",
      "source": [
        "from sys import version\n",
        "print(\"1) hola \" + \"mundo \" + \"python \" + str(3) )\n",
        "print(\"1) hola \", \"mundo\", \"python\", 3 )\n",
        "\n",
        "\n",
        "\n",
        "lenguaje,version  = \"python\", 3 #asignacion multiple\n",
        "print(lenguaje)\n",
        "print(version)"
      ],
      "metadata": {
        "colab": {
          "base_uri": "https://localhost:8080/"
        },
        "id": "xiP8ZEikBvwM",
        "outputId": "5ae5e368-a8b3-4dd9-a5ca-62dfc06590b4"
      },
      "execution_count": null,
      "outputs": [
        {
          "output_type": "stream",
          "name": "stdout",
          "text": [
            "1) hola mundo python 3\n",
            "1) hola  mundo python 3\n",
            "python\n",
            "3\n"
          ]
        }
      ]
    },
    {
      "cell_type": "code",
      "source": [
        "\n",
        "\n",
        "print(f\"5) hola mundo ¨{lenguaje} ¨{version}\")\n",
        "print(\"6) hola\", lenguaje, \"mundo\")"
      ],
      "metadata": {
        "colab": {
          "base_uri": "https://localhost:8080/"
        },
        "id": "TpRhcBzSDSTt",
        "outputId": "8f56faa0-d48f-4fe2-f151-aac9baa1a6c1"
      },
      "execution_count": null,
      "outputs": [
        {
          "output_type": "stream",
          "name": "stdout",
          "text": [
            "5) hola mundo ¨Python ¨3\n",
            "6) hola Python mundo\n"
          ]
        }
      ]
    },
    {
      "cell_type": "code",
      "source": [
        "cadena = \"si\"\n",
        "print((cadena*3, \"este amor es tan profundo\"))\n",
        "print(((\"*\"*8)+ \"\\n\")*4)"
      ],
      "metadata": {
        "colab": {
          "base_uri": "https://localhost:8080/"
        },
        "id": "zfGxEDk3EJg1",
        "outputId": "e7ca1eac-dc7e-45a6-b8a6-a9a9e80dd389"
      },
      "execution_count": null,
      "outputs": [
        {
          "output_type": "stream",
          "name": "stdout",
          "text": [
            "('sisisi', 'este amor es tan profundo')\n",
            "********\n",
            "********\n",
            "********\n",
            "********\n",
            "\n"
          ]
        }
      ]
    },
    {
      "cell_type": "code",
      "source": [
        "print(\"+\" + 10 * \"-\" + \"+\")\n",
        "print((\"|\" + \" \" * 10 + \"|\\n\") * 5, end = \"\")\n",
        "print(\"+\" + 10 * \"-\" + \"+\")"
      ],
      "metadata": {
        "id": "kSx2AeqzFjmG",
        "colab": {
          "base_uri": "https://localhost:8080/"
        },
        "outputId": "de7e1a27-edb6-47df-8264-6ef5582f2317"
      },
      "execution_count": null,
      "outputs": [
        {
          "output_type": "stream",
          "name": "stdout",
          "text": [
            "+----------+\n",
            "|          |\n",
            "|          |\n",
            "|          |\n",
            "|          |\n",
            "|          |\n",
            "+----------+\n"
          ]
        }
      ]
    },
    {
      "cell_type": "code",
      "source": [
        "cadena = \"lenguaje de programacion phyton\"\n",
        "print(cadena[0:8])\n",
        "print(cadena[9:11])\n",
        "print(cadena[12:24])\n",
        "print(cadena[25:31])"
      ],
      "metadata": {
        "colab": {
          "base_uri": "https://localhost:8080/"
        },
        "id": "qrU8kCX0a_z8",
        "outputId": "7ecef089-7390-41c9-f5d2-d036ce506e87"
      },
      "execution_count": null,
      "outputs": [
        {
          "output_type": "stream",
          "name": "stdout",
          "text": [
            "lenguaje\n",
            "de\n",
            "programacion\n",
            "phyton\n"
          ]
        }
      ]
    },
    {
      "cell_type": "code",
      "source": [
        "cadena = \"lenguaje de programación python\"\n",
        "print(cadena[:3])\n",
        "print(cadena[25:])\n",
        "print(cadena[-6:-2])\n",
        "print(cadena[-9])\n",
        "\n",
        "\n",
        "\n"
      ],
      "metadata": {
        "colab": {
          "base_uri": "https://localhost:8080/"
        },
        "id": "Rfe0onTib-1b",
        "outputId": "ac485e26-8779-4881-a27f-71639063a6e1"
      },
      "execution_count": null,
      "outputs": [
        {
          "output_type": "stream",
          "name": "stdout",
          "text": [
            "len\n",
            "python\n",
            "pyth\n",
            "ó\n"
          ]
        }
      ]
    },
    {
      "cell_type": "markdown",
      "source": [
        "conversión entre tipos"
      ],
      "metadata": {
        "id": "hLBuFUxFe5ML"
      }
    },
    {
      "cell_type": "code",
      "source": [
        "a,b = \"3\" , \"5\"\n",
        "print(a+b)\n",
        "print(int(a) + int (b))"
      ],
      "metadata": {
        "colab": {
          "base_uri": "https://localhost:8080/"
        },
        "id": "gsW7yAVWdXoL",
        "outputId": "030238c4-9516-4620-c527-006bd03b5685"
      },
      "execution_count": null,
      "outputs": [
        {
          "output_type": "stream",
          "name": "stdout",
          "text": [
            "35\n",
            "8\n"
          ]
        }
      ]
    },
    {
      "cell_type": "markdown",
      "source": [
        "Metodos de cadenas"
      ],
      "metadata": {
        "id": "nrczusa7ftI0"
      }
    },
    {
      "cell_type": "code",
      "source": [
        "cadena_base = \"mi pObre angelito\".lower()\n",
        "cad1 = cadena_base.upper()\n",
        "\n",
        "print(cad1)\n",
        "\n",
        "numero_de_o = cadena_base.count(\"o\")  #devuelve el numero de veces que se encuentra en las subcarpetas\n",
        "print(numero_de_o)\n",
        "\n",
        "print(f\"la letra 'o' esta {numero_de_o} veces en la palabra/frase '{cadena_base}' \")"
      ],
      "metadata": {
        "colab": {
          "base_uri": "https://localhost:8080/"
        },
        "id": "fA2qm7MlfKNj",
        "outputId": "14c63572-8bb9-4db2-a38c-558f15a8d37f"
      },
      "execution_count": null,
      "outputs": [
        {
          "output_type": "stream",
          "name": "stdout",
          "text": [
            "MI POBRE ANGELITO\n",
            "2\n",
            "la letra 'o' esta 2 veces en la palabra/frase 'mi pobre angelito' \n"
          ]
        }
      ]
    },
    {
      "cell_type": "markdown",
      "source": [
        "lectura de datos"
      ],
      "metadata": {
        "id": "Gvn7HvaJhZZE"
      }
    },
    {
      "cell_type": "code",
      "source": [
        "marca = input(\"ingrese la marca del auto\")\n",
        "print(\"la marca del auto auto igresada por el usuario es\", marca)"
      ],
      "metadata": {
        "colab": {
          "base_uri": "https://localhost:8080/"
        },
        "id": "Gs-nZmiGf6ay",
        "outputId": "fb3e8f60-13fb-473f-e25b-be3ec07ec71c"
      },
      "execution_count": null,
      "outputs": [
        {
          "output_type": "stream",
          "name": "stdout",
          "text": [
            "ingrese la marca del automazda\n",
            "la marca del auto auto igresada por el usuario es mazda\n"
          ]
        }
      ]
    },
    {
      "cell_type": "code",
      "source": [
        "precio = int(input(\"ingrese presio: \"))\n",
        "print(f\"El auto marca {marca} tiene un precio de ${precio} y con un descuento el 10% le queda en {precio*0.9}\")\n",
        "print(\"El auto marca {} tiene un precio de ${:,} y con un descuento el 10% le queda en ${:,}\".format(marca,precio,precio*0.9))\n"
      ],
      "metadata": {
        "colab": {
          "base_uri": "https://localhost:8080/"
        },
        "id": "Y0Ow6fRHh_GE",
        "outputId": "6ddc7c06-6662-498b-f58a-e6f242315d2d"
      },
      "execution_count": null,
      "outputs": [
        {
          "output_type": "stream",
          "name": "stdout",
          "text": [
            "ingrese presio: 5000000\n",
            "El auto marca mazda tiene un precio de $5000000 y con un descuento el 10% le queda en 4500000.0\n",
            "El auto marca mazda tiene un precio de $5,000,000 y con un descuento el 10% le queda en $4,500,000.0\n"
          ]
        }
      ]
    },
    {
      "cell_type": "code",
      "source": [
        "frutosrecolectados = int(input(\"ingrese la cantidad de frutos recolectados\"))\n"
      ],
      "metadata": {
        "id": "icRgUK_NiH6E"
      },
      "execution_count": null,
      "outputs": []
    },
    {
      "cell_type": "code",
      "source": [
        "precio = int(input(\"ingrese presio: \"))\n",
        "print(f\"El auto marca {marca} tiene un precio de ${precio} y con un descuento el 10% le queda en {precio*0.9}\")\n",
        "print(\"El auto marca {} tiene un precio de ${:,} y con un descuento el 10% le queda en ${:,}\".format(marca,precio,precio*0.9))\n"
      ],
      "metadata": {
        "id": "dAcUSAxgO8Fy"
      },
      "execution_count": null,
      "outputs": []
    },
    {
      "cell_type": "markdown",
      "source": [
        "tarea 1"
      ],
      "metadata": {
        "id": "y8AG8ynAQRds"
      }
    },
    {
      "cell_type": "code",
      "source": [
        "cantidad_de_frutos = int(input(\"ingreses la cantidad de frutos recolectados\"))\n",
        "cantidad_de_frutos_producidos = int(input(\"ingreses la cantidad de frutos producidos\"))\n",
        "indice_de_cosecha = cantidad_de_frutos/cantidad_de_frutos_producidos*100\n",
        "print((\"el indice de cultivo es: \") + str(indice_de_cosecha)+\"%\")"
      ],
      "metadata": {
        "colab": {
          "base_uri": "https://localhost:8080/"
        },
        "id": "sEcT4jtjQSQ7",
        "outputId": "7e54f3b2-bd5b-4456-e579-7cc0ed432695"
      },
      "execution_count": 5,
      "outputs": [
        {
          "output_type": "stream",
          "name": "stdout",
          "text": [
            "ingreses la cantidad de frutos recolectados50\n",
            "ingreses la cantidad de frutos producidos500\n",
            "el indice de cultivo es: 10.0%\n"
          ]
        }
      ]
    },
    {
      "cell_type": "markdown",
      "source": [
        "tarea 2\n"
      ],
      "metadata": {
        "id": "Ba12rY9GUBy0"
      }
    },
    {
      "cell_type": "code",
      "source": [
        "print(\"-\" + 10 * \"-\" + \"-\")\n",
        "print((\"|\" + \" \" * 10 + \"|\\n\") * 5, end = \"\")\n",
        "print(\"+\" + 10 * \"-\" + \"+\")\n",
        "print((\"|\" + \" \" * 10 + \"|\\n\")* 5)"
      ],
      "metadata": {
        "colab": {
          "base_uri": "https://localhost:8080/"
        },
        "id": "QbPJcKhEQtbs",
        "outputId": "c58dea51-e391-41ed-9eac-1340437c5b7b"
      },
      "execution_count": 44,
      "outputs": [
        {
          "output_type": "stream",
          "name": "stdout",
          "text": [
            "------------\n",
            "|          |\n",
            "|          |\n",
            "|          |\n",
            "|          |\n",
            "|          |\n",
            "+----------+\n",
            "|          |\n",
            "|          |\n",
            "|          |\n",
            "|          |\n",
            "|          |\n",
            "\n"
          ]
        }
      ]
    },
    {
      "cell_type": "markdown",
      "source": [
        "tarea punto 3"
      ],
      "metadata": {
        "id": "gAXW5actePki"
      }
    },
    {
      "cell_type": "code",
      "source": [
        "numero_de_parcailes = int(input(\"ingrese el numero de parciales:\"))\n",
        "promedio_parciales = sum(float(input(f\"ingrese las calificaciones de los parciales {i+1}: \" )) for i in range(numero_de_parcailes)) / numero_de_parcailes\n",
        "examen_final = float(input(\"ingrese la calificacion del examen final: \"))\n",
        "trabajo_final = float(input(\"ingrese la calificacion del trabajo final: \"))\n",
        "calificacion_final = (promedio_parciales * 0.55) + (examen_final * 0.30) + (trabajo_final * 0.15)\n",
        "print(\"la calificaion total en matematicas es de {:.2f}\".format(calificacion_final) )"
      ],
      "metadata": {
        "colab": {
          "base_uri": "https://localhost:8080/"
        },
        "id": "KfznEeVPYl_B",
        "outputId": "73a345d4-bec4-41a5-827a-788db77d377a"
      },
      "execution_count": 47,
      "outputs": [
        {
          "output_type": "stream",
          "name": "stdout",
          "text": [
            "ingrese el numero de parciales:3\n",
            "ingrese las calificaciones de los parciales 1: 80\n",
            "ingrese las calificaciones de los parciales 2: 60\n",
            "ingrese las calificaciones de los parciales 3: 90\n",
            "ingrese la calificacion del examen final: 80\n",
            "ingrese la calificacion del trabajo final: 60\n",
            "la calificaion total en matematicas es de 75.17\n"
          ]
        }
      ]
    },
    {
      "cell_type": "markdown",
      "source": [
        "tarea 4"
      ],
      "metadata": {
        "id": "gacwiUI4fU0y"
      }
    },
    {
      "cell_type": "code",
      "source": [
        "def contar_palabras(frase):\n",
        "  \"\"\"\n",
        "  Esta función cuenta el número de palabras en una frase.\n",
        "\n",
        "  Args:\n",
        "    frase: La frase a analizar.\n",
        "\n",
        "  Returns:\n",
        "    El número de palabras en la frase.\n",
        "  \"\"\"\n",
        "\n",
        "  palabras = frase.split()\n",
        "  numero_palabras = len(palabras)\n",
        "  return numero_palabras\n",
        "\n",
        "frase_usuario = input(\"Ingresa una frase: \")\n",
        "numero_palabras = contar_palabras(frase_usuario)\n",
        "print(f\"La frase tiene {numero_palabras} palabras.\")"
      ],
      "metadata": {
        "colab": {
          "base_uri": "https://localhost:8080/"
        },
        "id": "PiqmvMJbcxHZ",
        "outputId": "544a04e7-e722-44eb-83a5-8cf2a6c02cf6"
      },
      "execution_count": 48,
      "outputs": [
        {
          "output_type": "stream",
          "name": "stdout",
          "text": [
            "Ingresa una frase: hola me gusta el pito\n",
            "La frase tiene 5 palabras.\n"
          ]
        }
      ]
    },
    {
      "cell_type": "markdown",
      "source": [
        "tarea 5\n"
      ],
      "metadata": {
        "id": "anYvsaPlfWnh"
      }
    },
    {
      "cell_type": "code",
      "source": [
        "def transformar_frase(frase):\n",
        "  \"\"\"\n",
        "  Esta función transforma una frase a mayúsculas sostenidas e invierte su contenido.\n",
        "\n",
        "  Args:\n",
        "    frase: La frase a transformar.\n",
        "\n",
        "  Returns:\n",
        "    La frase transformada.\n",
        "  \"\"\"\n",
        "\n",
        "  frase_mayusculas = frase.upper()\n",
        "  frase_invertida = frase_mayusculas[::-1]\n",
        "  return frase_invertida\n",
        "\n",
        "frase_usuario = input(\"Ingresa una frase: \")\n",
        "frase_transformada = transformar_frase(frase_usuario)\n",
        "print(f\"La frase transformada es: {frase_transformada}\")\n",
        "\n"
      ],
      "metadata": {
        "colab": {
          "base_uri": "https://localhost:8080/"
        },
        "id": "fOGEEDhyfYAJ",
        "outputId": "7a1acd1b-231e-4efe-d9b7-5199c4e87f56"
      },
      "execution_count": 49,
      "outputs": [
        {
          "output_type": "stream",
          "name": "stdout",
          "text": [
            "Ingresa una frase: hola soy douglas\n",
            "La frase transformada es: SALGUOD YOS ALOH\n"
          ]
        }
      ]
    }
  ]
}