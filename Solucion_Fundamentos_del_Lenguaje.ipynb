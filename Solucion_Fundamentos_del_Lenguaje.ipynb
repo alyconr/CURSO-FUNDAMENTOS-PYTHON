{
  "nbformat": 4,
  "nbformat_minor": 0,
  "metadata": {
    "colab": {
      "provenance": []
    },
    "kernelspec": {
      "name": "python3",
      "display_name": "Python 3"
    },
    "language_info": {
      "name": "python"
    }
  },
  "cells": [
    {
      "cell_type": "markdown",
      "source": [
        "# **APROPIACION**\n",
        "\n",
        "1. Realice un programa que calcule el índice de cosecha de un cultivo en función de la cantidad de frutos recolectados y la cantidad de frutos producidos en total.\n",
        "\n",
        "Fórmula:\n",
        "```\n",
        "Índice de cosecha = (cantidad de frutos recolectados / cantidad de frutos producidos) * 100%\n",
        "```"
      ],
      "metadata": {
        "id": "fVK8w_T-LSFl"
      }
    },
    {
      "cell_type": "code",
      "source": [
        "# Pedimos la cantidad de frutos recolectados\n",
        "frutos_recolectados = int (input(\"Ingrese la cantidad de frutos recolectados: \"))\n",
        "# Pedimos la cantidad de frutos producidos\n",
        "frutos_producidos = int (input(\"Ingrese la cantidad de frutos producidos: \"))\n",
        "# Ejecutamos la operacion para poder determinar cual es el indice de cosecha\n",
        "Índice_de_cosecha = float(frutos_recolectados / frutos_producidos) * 100\n",
        "print(f\"El índice de cosecha es: {Índice_de_cosecha}\")"
      ],
      "metadata": {
        "id": "ZXQv9Kw1LysE"
      },
      "execution_count": null,
      "outputs": []
    },
    {
      "cell_type": "markdown",
      "source": [
        "2. Dibujar la P de Python que abarque 7 filas y 5 columnas.  Use solo una línea de código"
      ],
      "metadata": {
        "id": "tWfeaK-SLWCv"
      }
    },
    {
      "cell_type": "code",
      "source": [
        "# Organizamos el orden de como poner los signos para generar la letra que en este caso es una P de Python\n",
        "print (\"+\" + 3 * \"-\" + \"+\")\n",
        "print ((\"|\" + \" \" * 3 + \"|\\n\") *2,  end=\"\")\n",
        "print (\"+\" + 3 * \"-\" + \"+\")\n",
        "print ((\"|\" + \"\" * 5 + \"\\n\")*3,end=\"\")"
      ],
      "metadata": {
        "id": "3XB2EQWOMFa3"
      },
      "execution_count": null,
      "outputs": []
    },
    {
      "cell_type": "markdown",
      "source": [
        "3.\tUn alumno desea saber cuál será su calificación final en la materia de Matemáticas. Dicha calificación se compone de los siguientes porcentajes:\n",
        "55% del promedio de sus tres calificaciones parciales (se debe leer cada calificación parcial).\n",
        "30% de la calificación del examen final.\n",
        "15% de la calificación de un trabajo final."
      ],
      "metadata": {
        "id": "lueZ0k8VLhAr"
      }
    },
    {
      "cell_type": "code",
      "source": [
        "# Pedimos las tres calificaiones Parciales al estudiante:\n",
        "Parcial1 = int (input (\"Ingrese la primera nota Parcial: \"))\n",
        "Parcial2 = int (input (\"Ingrese la segunda nota Parcial: \"))\n",
        "Parcial3 = int (input (\"Ingrese la tercera nota Parcial: \"))\n",
        "# Pedimos la calificacion Del Examen final al estudiante:\n",
        "ExamenFinal = float (input (\"Ingrese la nota final del examen: \"))\n",
        "# Pedimos la calificacion del Trabajo Final al estudiante:\n",
        "TrabajoFinal = float (input (\"Ingrese la nota del trabajo final: \"))\n",
        "# Hacemos la operacion del Promedio Parcial de las primeras tres calificaciones:\n",
        "PromedioParciales = (Parcial1 + Parcial2 + Parcial3) / 3\n",
        "# Hacemos la operacion de todas las notas ingresadas por el estudianteÑ\n",
        "CalificacionFinal = ((PromedioParciales  * 0.55) + (ExamenFinal * 0.30) + (TrabajoFinal * 0.15) / 3)\n",
        "print (f\"La calificacion final del estudiante es: {CalificacionFinal}\" )"
      ],
      "metadata": {
        "id": "U60urv59MGwC"
      },
      "execution_count": null,
      "outputs": []
    },
    {
      "cell_type": "markdown",
      "source": [
        "4. Recibir una frase por parte del usuario y devolver el número de palabras que se encuentran en la frase."
      ],
      "metadata": {
        "id": "0JJMZAHbLj2j"
      }
    },
    {
      "cell_type": "code",
      "source": [
        "# Le pedimos al usuario una frase\n",
        "frase =  input (\" Ingrese una frase: \")\n",
        "# Por el ultimo ejecutamos la siguiente linea para que determine cuantas palabras ingreso elusuario en la frase que ingreso de primeras\n",
        "print(f\" La frase tiene {frase.count(' ')+1} palabras\")"
      ],
      "metadata": {
        "id": "8Enk78vXMAct"
      },
      "execution_count": null,
      "outputs": []
    },
    {
      "cell_type": "markdown",
      "source": [
        "5. Recibir una frase y transformarla a mayúscula sostenida e invirtiendo su contenido"
      ],
      "metadata": {
        "id": "jXyXCIZZLm5S"
      }
    },
    {
      "cell_type": "code",
      "source": [
        "# Le pedimos al usurio una frase\n",
        "frase =  input (\"Ingrese una frase: \")\n",
        "# Por ultimo ejecutamos la siguiente linea para que la frase que ingreso el usuario la escriba al reves y en mayuscula\n",
        "print(frase.upper()[::-1])"
      ],
      "metadata": {
        "id": "pZ8_R9HqMHvf"
      },
      "execution_count": null,
      "outputs": []
    }
  ]
}