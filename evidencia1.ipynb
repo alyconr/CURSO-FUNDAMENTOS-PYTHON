{
  "nbformat": 4,
  "nbformat_minor": 0,
  "metadata": {
    "colab": {
      "provenance": []
    },
    "kernelspec": {
      "name": "python3",
      "display_name": "Python 3"
    },
    "language_info": {
      "name": "python"
    }
  },
  "cells": [
    {
      "cell_type": "code",
      "execution_count": 1,
      "metadata": {
        "colab": {
          "base_uri": "https://localhost:8080/"
        },
        "id": "9RZwdAbT-b_v",
        "outputId": "faaae6bc-0365-4ebf-f758-fd2282f2cf52"
      },
      "outputs": [
        {
          "output_type": "stream",
          "name": "stdout",
          "text": [
            "2000.0\n"
          ]
        }
      ],
      "source": [
        "frutosProducidos = 60\n",
        "frutosRecolectados = 3\n",
        "\n",
        "indicedecosecha = (frutosProducidos/frutosRecolectados*100)\n",
        "print(indicedecosecha)"
      ]
    },
    {
      "cell_type": "code",
      "source": [
        "print(\"+\" + \"-\" * 7 + \"+\\n\" + ((\"|\" + \" \" * 7 + \"|\\n\") * 5) + \"+\" + \"-\" * 7 + \"+\\n\" + ((\"|\" + \" \" * 7 + \"\\n\") * 5), end=\" \")"
      ],
      "metadata": {
        "colab": {
          "base_uri": "https://localhost:8080/"
        },
        "id": "uowm51l_-oAj",
        "outputId": "b1c61c01-0350-4ac1-ae15-7ab7a091eced"
      },
      "execution_count": 2,
      "outputs": [
        {
          "output_type": "stream",
          "name": "stdout",
          "text": [
            "+-------+\n",
            "|       |\n",
            "|       |\n",
            "|       |\n",
            "|       |\n",
            "|       |\n",
            "+-------+\n",
            "|       \n",
            "|       \n",
            "|       \n",
            "|       \n",
            "|       \n",
            " "
          ]
        }
      ]
    },
    {
      "cell_type": "code",
      "source": [
        "nota1 =int(input(\"ingrese la primera nota\"))\n",
        "nota2 =int(input(\"ingrese la segunda nota\"))\n",
        "nota3 =int(input(\"ingrese la tercera nota\"))\n",
        "\n",
        "calificacionFinal = int(input(\"ingrese su nota final\"))\n",
        "trabajoFinal = int(input(\"ingrese su calificacion del trabajo final\"))\n",
        "\n",
        "promedio_notas = (nota1 + nota2 + nota3) / 3\n",
        "nota_final = (promedio_notas * 0.55) + (calificacionFinal * 0.30) + (trabajoFinal * 0.15)\n",
        "print (f\"Su nota final es:  {nota_final:.2f}\")\n"
      ],
      "metadata": {
        "colab": {
          "base_uri": "https://localhost:8080/"
        },
        "id": "wLUjisPs-yqx",
        "outputId": "ee6b5e42-e456-49e9-fefe-52c16e4401d5"
      },
      "execution_count": 4,
      "outputs": [
        {
          "output_type": "stream",
          "name": "stdout",
          "text": [
            "ingrese la primera nota 10\n",
            "ingrese la segunda nota 2\n",
            "ingrese la tercera nota 6\n",
            "ingrese su nota final 3\n",
            "ingrese su calificacion del trabajo final 5\n",
            "Su nota final es:  4.95\n"
          ]
        }
      ]
    },
    {
      "cell_type": "code",
      "source": [
        "cad = \"esternocleidomastoideo\"\n",
        "num_x = cad.count (\"o\")\n",
        "print(num_x)"
      ],
      "metadata": {
        "colab": {
          "base_uri": "https://localhost:8080/"
        },
        "id": "82HvhwPM-7Iz",
        "outputId": "388c6614-7977-4354-b226-2cf15acd678b"
      },
      "execution_count": 5,
      "outputs": [
        {
          "output_type": "stream",
          "name": "stdout",
          "text": [
            "4\n"
          ]
        }
      ]
    },
    {
      "cell_type": "code",
      "source": [
        "cad = \"el calvo le gusta el shampoo\".lower()\n",
        "cad1 = cad.upper()\n",
        "\n",
        "print (cad1)\n",
        "cadInvertida = cad1[::-1]\n",
        "\n",
        "print(cadInvertida)"
      ],
      "metadata": {
        "colab": {
          "base_uri": "https://localhost:8080/"
        },
        "id": "zO2v6eqN_Dha",
        "outputId": "efc1e30c-4118-4a2b-cebb-81036e150cdb"
      },
      "execution_count": 6,
      "outputs": [
        {
          "output_type": "stream",
          "name": "stdout",
          "text": [
            "EL CALVO LE GUSTA EL SHAMPOO\n",
            "OOPMAHS LE ATSUG EL OVLAC LE\n"
          ]
        }
      ]
    }
  ]
}